{
 "cells": [
  {
   "cell_type": "markdown",
   "id": "553143cb-948e-4d36-8824-ff17e52ab4f4",
   "metadata": {},
   "source": [
    "# Data cleaning\n",
    "W tym pliku przygotuję zbiór danych do dalszej pracy."
   ]
  },
  {
   "cell_type": "markdown",
   "id": "dbc2178a04a86ed2",
   "metadata": {},
   "source": "## Import potrzebnych bibliotek."
  },
  {
   "cell_type": "code",
   "id": "ef0eb80f-fe05-44b6-8a97-ca392354a86d",
   "metadata": {
    "ExecuteTime": {
     "end_time": "2025-04-02T08:21:16.576507Z",
     "start_time": "2025-04-02T08:21:16.571514Z"
    }
   },
   "source": [
    "import pandas as pd\n",
    "import numpy as np\n",
    "import seaborn as sns\n",
    "import matplotlib.pyplot as plt"
   ],
   "outputs": [],
   "execution_count": 39
  },
  {
   "cell_type": "markdown",
   "id": "4431403cdd83e67a",
   "metadata": {},
   "source": "## Wczytanie danych z plików CSV."
  },
  {
   "cell_type": "code",
   "id": "4d8f782f-4958-45a2-9940-c69786a457af",
   "metadata": {
    "ExecuteTime": {
     "end_time": "2025-04-02T08:59:59.043357Z",
     "start_time": "2025-04-02T08:59:53.829317Z"
    }
   },
   "source": [
    "# główne dane\n",
    "postings = pd.read_csv('postings.csv')"
   ],
   "outputs": [],
   "execution_count": 74
  },
  {
   "cell_type": "code",
   "id": "0e711343-9dc1-45df-9757-d404c1f310ef",
   "metadata": {
    "ExecuteTime": {
     "end_time": "2025-04-02T08:21:26.592281Z",
     "start_time": "2025-04-02T08:21:26.500897Z"
    }
   },
   "source": [
    "# dodatkowe informacje\n",
    "job_industries = pd.read_csv('job_industries.csv')\n",
    "industries = pd.read_csv('industries.csv')\n",
    "job_skills = pd.read_csv('job_skills.csv')\n",
    "skills = pd.read_csv('skills.csv')\n",
    "employee_counts = pd.read_csv('employee_counts.csv')"
   ],
   "outputs": [],
   "execution_count": 41
  },
  {
   "cell_type": "markdown",
   "id": "f809a595e24295f8",
   "metadata": {},
   "source": [
    "## Sprawdzenie podstawowych informacji o danych:\n",
    "### * postings.csv (struktura, ile jest braków w każdej kolumnie)"
   ]
  },
  {
   "cell_type": "code",
   "id": "e01b33a8cadb0700",
   "metadata": {
    "ExecuteTime": {
     "end_time": "2025-04-02T08:21:30.144374Z",
     "start_time": "2025-04-02T08:21:30.081450Z"
    }
   },
   "source": [
    "postings.info()"
   ],
   "outputs": [
    {
     "name": "stdout",
     "output_type": "stream",
     "text": [
      "<class 'pandas.core.frame.DataFrame'>\n",
      "RangeIndex: 123849 entries, 0 to 123848\n",
      "Data columns (total 31 columns):\n",
      " #   Column                      Non-Null Count   Dtype  \n",
      "---  ------                      --------------   -----  \n",
      " 0   job_id                      123849 non-null  int64  \n",
      " 1   company_name                122130 non-null  object \n",
      " 2   title                       123849 non-null  object \n",
      " 3   description                 123842 non-null  object \n",
      " 4   max_salary                  29793 non-null   float64\n",
      " 5   pay_period                  36073 non-null   object \n",
      " 6   location                    123849 non-null  object \n",
      " 7   company_id                  122132 non-null  float64\n",
      " 8   views                       122160 non-null  float64\n",
      " 9   med_salary                  6280 non-null    float64\n",
      " 10  min_salary                  29793 non-null   float64\n",
      " 11  formatted_work_type         123849 non-null  object \n",
      " 12  applies                     23320 non-null   float64\n",
      " 13  original_listed_time        123849 non-null  float64\n",
      " 14  remote_allowed              15246 non-null   float64\n",
      " 15  job_posting_url             123849 non-null  object \n",
      " 16  application_url             87184 non-null   object \n",
      " 17  application_type            123849 non-null  object \n",
      " 18  expiry                      123849 non-null  float64\n",
      " 19  closed_time                 1073 non-null    float64\n",
      " 20  formatted_experience_level  94440 non-null   object \n",
      " 21  skills_desc                 2439 non-null    object \n",
      " 22  listed_time                 123849 non-null  float64\n",
      " 23  posting_domain              83881 non-null   object \n",
      " 24  sponsored                   123849 non-null  int64  \n",
      " 25  work_type                   123849 non-null  object \n",
      " 26  currency                    36073 non-null   object \n",
      " 27  compensation_type           36073 non-null   object \n",
      " 28  normalized_salary           36073 non-null   float64\n",
      " 29  zip_code                    102977 non-null  float64\n",
      " 30  fips                        96434 non-null   float64\n",
      "dtypes: float64(14), int64(2), object(15)\n",
      "memory usage: 29.3+ MB\n"
     ]
    }
   ],
   "execution_count": 42
  },
  {
   "cell_type": "code",
   "id": "45fd9cc7da8eadc2",
   "metadata": {
    "ExecuteTime": {
     "end_time": "2025-04-02T08:21:32.529657Z",
     "start_time": "2025-04-02T08:21:32.511654Z"
    }
   },
   "source": [
    "postings.head(5)"
   ],
   "outputs": [
    {
     "data": {
      "text/plain": [
       "     job_id            company_name  \\\n",
       "0    921716   Corcoran Sawyer Smith   \n",
       "1   1829192                     NaN   \n",
       "2  10998357  The National Exemplar    \n",
       "3  23221523  Abrams Fensterman, LLP   \n",
       "4  35982263                     NaN   \n",
       "\n",
       "                                               title  \\\n",
       "0                              Marketing Coordinator   \n",
       "1                  Mental Health Therapist/Counselor   \n",
       "2                        Assitant Restaurant Manager   \n",
       "3  Senior Elder Law / Trusts and Estates Associat...   \n",
       "4                                 Service Technician   \n",
       "\n",
       "                                         description  max_salary pay_period  \\\n",
       "0  Job descriptionA leading real estate firm in N...        20.0     HOURLY   \n",
       "1  At Aspen Therapy and Wellness , we are committ...        50.0     HOURLY   \n",
       "2  The National Exemplar is accepting application...     65000.0     YEARLY   \n",
       "3  Senior Associate Attorney - Elder Law / Trusts...    175000.0     YEARLY   \n",
       "4  Looking for HVAC service tech with experience ...     80000.0     YEARLY   \n",
       "\n",
       "            location  company_id  views  med_salary  ...  \\\n",
       "0      Princeton, NJ   2774458.0   20.0         NaN  ...   \n",
       "1   Fort Collins, CO         NaN    1.0         NaN  ...   \n",
       "2     Cincinnati, OH  64896719.0    8.0         NaN  ...   \n",
       "3  New Hyde Park, NY    766262.0   16.0         NaN  ...   \n",
       "4     Burlington, IA         NaN    3.0         NaN  ...   \n",
       "\n",
       "                                         skills_desc   listed_time  \\\n",
       "0  Requirements: \\n\\nWe are seeking a College or ...  1.713398e+12   \n",
       "1                                                NaN  1.712858e+12   \n",
       "2  We are currently accepting resumes for FOH - A...  1.713278e+12   \n",
       "3  This position requires a baseline understandin...  1.712896e+12   \n",
       "4                                                NaN  1.713452e+12   \n",
       "\n",
       "   posting_domain  sponsored  work_type currency compensation_type  \\\n",
       "0             NaN          0  FULL_TIME      USD       BASE_SALARY   \n",
       "1             NaN          0  FULL_TIME      USD       BASE_SALARY   \n",
       "2             NaN          0  FULL_TIME      USD       BASE_SALARY   \n",
       "3             NaN          0  FULL_TIME      USD       BASE_SALARY   \n",
       "4             NaN          0  FULL_TIME      USD       BASE_SALARY   \n",
       "\n",
       "  normalized_salary  zip_code     fips  \n",
       "0           38480.0    8540.0  34021.0  \n",
       "1           83200.0   80521.0   8069.0  \n",
       "2           55000.0   45202.0  39061.0  \n",
       "3          157500.0   11040.0  36059.0  \n",
       "4           70000.0   52601.0  19057.0  \n",
       "\n",
       "[5 rows x 31 columns]"
      ],
      "text/html": [
       "<div>\n",
       "<style scoped>\n",
       "    .dataframe tbody tr th:only-of-type {\n",
       "        vertical-align: middle;\n",
       "    }\n",
       "\n",
       "    .dataframe tbody tr th {\n",
       "        vertical-align: top;\n",
       "    }\n",
       "\n",
       "    .dataframe thead th {\n",
       "        text-align: right;\n",
       "    }\n",
       "</style>\n",
       "<table border=\"1\" class=\"dataframe\">\n",
       "  <thead>\n",
       "    <tr style=\"text-align: right;\">\n",
       "      <th></th>\n",
       "      <th>job_id</th>\n",
       "      <th>company_name</th>\n",
       "      <th>title</th>\n",
       "      <th>description</th>\n",
       "      <th>max_salary</th>\n",
       "      <th>pay_period</th>\n",
       "      <th>location</th>\n",
       "      <th>company_id</th>\n",
       "      <th>views</th>\n",
       "      <th>med_salary</th>\n",
       "      <th>...</th>\n",
       "      <th>skills_desc</th>\n",
       "      <th>listed_time</th>\n",
       "      <th>posting_domain</th>\n",
       "      <th>sponsored</th>\n",
       "      <th>work_type</th>\n",
       "      <th>currency</th>\n",
       "      <th>compensation_type</th>\n",
       "      <th>normalized_salary</th>\n",
       "      <th>zip_code</th>\n",
       "      <th>fips</th>\n",
       "    </tr>\n",
       "  </thead>\n",
       "  <tbody>\n",
       "    <tr>\n",
       "      <th>0</th>\n",
       "      <td>921716</td>\n",
       "      <td>Corcoran Sawyer Smith</td>\n",
       "      <td>Marketing Coordinator</td>\n",
       "      <td>Job descriptionA leading real estate firm in N...</td>\n",
       "      <td>20.0</td>\n",
       "      <td>HOURLY</td>\n",
       "      <td>Princeton, NJ</td>\n",
       "      <td>2774458.0</td>\n",
       "      <td>20.0</td>\n",
       "      <td>NaN</td>\n",
       "      <td>...</td>\n",
       "      <td>Requirements: \\n\\nWe are seeking a College or ...</td>\n",
       "      <td>1.713398e+12</td>\n",
       "      <td>NaN</td>\n",
       "      <td>0</td>\n",
       "      <td>FULL_TIME</td>\n",
       "      <td>USD</td>\n",
       "      <td>BASE_SALARY</td>\n",
       "      <td>38480.0</td>\n",
       "      <td>8540.0</td>\n",
       "      <td>34021.0</td>\n",
       "    </tr>\n",
       "    <tr>\n",
       "      <th>1</th>\n",
       "      <td>1829192</td>\n",
       "      <td>NaN</td>\n",
       "      <td>Mental Health Therapist/Counselor</td>\n",
       "      <td>At Aspen Therapy and Wellness , we are committ...</td>\n",
       "      <td>50.0</td>\n",
       "      <td>HOURLY</td>\n",
       "      <td>Fort Collins, CO</td>\n",
       "      <td>NaN</td>\n",
       "      <td>1.0</td>\n",
       "      <td>NaN</td>\n",
       "      <td>...</td>\n",
       "      <td>NaN</td>\n",
       "      <td>1.712858e+12</td>\n",
       "      <td>NaN</td>\n",
       "      <td>0</td>\n",
       "      <td>FULL_TIME</td>\n",
       "      <td>USD</td>\n",
       "      <td>BASE_SALARY</td>\n",
       "      <td>83200.0</td>\n",
       "      <td>80521.0</td>\n",
       "      <td>8069.0</td>\n",
       "    </tr>\n",
       "    <tr>\n",
       "      <th>2</th>\n",
       "      <td>10998357</td>\n",
       "      <td>The National Exemplar</td>\n",
       "      <td>Assitant Restaurant Manager</td>\n",
       "      <td>The National Exemplar is accepting application...</td>\n",
       "      <td>65000.0</td>\n",
       "      <td>YEARLY</td>\n",
       "      <td>Cincinnati, OH</td>\n",
       "      <td>64896719.0</td>\n",
       "      <td>8.0</td>\n",
       "      <td>NaN</td>\n",
       "      <td>...</td>\n",
       "      <td>We are currently accepting resumes for FOH - A...</td>\n",
       "      <td>1.713278e+12</td>\n",
       "      <td>NaN</td>\n",
       "      <td>0</td>\n",
       "      <td>FULL_TIME</td>\n",
       "      <td>USD</td>\n",
       "      <td>BASE_SALARY</td>\n",
       "      <td>55000.0</td>\n",
       "      <td>45202.0</td>\n",
       "      <td>39061.0</td>\n",
       "    </tr>\n",
       "    <tr>\n",
       "      <th>3</th>\n",
       "      <td>23221523</td>\n",
       "      <td>Abrams Fensterman, LLP</td>\n",
       "      <td>Senior Elder Law / Trusts and Estates Associat...</td>\n",
       "      <td>Senior Associate Attorney - Elder Law / Trusts...</td>\n",
       "      <td>175000.0</td>\n",
       "      <td>YEARLY</td>\n",
       "      <td>New Hyde Park, NY</td>\n",
       "      <td>766262.0</td>\n",
       "      <td>16.0</td>\n",
       "      <td>NaN</td>\n",
       "      <td>...</td>\n",
       "      <td>This position requires a baseline understandin...</td>\n",
       "      <td>1.712896e+12</td>\n",
       "      <td>NaN</td>\n",
       "      <td>0</td>\n",
       "      <td>FULL_TIME</td>\n",
       "      <td>USD</td>\n",
       "      <td>BASE_SALARY</td>\n",
       "      <td>157500.0</td>\n",
       "      <td>11040.0</td>\n",
       "      <td>36059.0</td>\n",
       "    </tr>\n",
       "    <tr>\n",
       "      <th>4</th>\n",
       "      <td>35982263</td>\n",
       "      <td>NaN</td>\n",
       "      <td>Service Technician</td>\n",
       "      <td>Looking for HVAC service tech with experience ...</td>\n",
       "      <td>80000.0</td>\n",
       "      <td>YEARLY</td>\n",
       "      <td>Burlington, IA</td>\n",
       "      <td>NaN</td>\n",
       "      <td>3.0</td>\n",
       "      <td>NaN</td>\n",
       "      <td>...</td>\n",
       "      <td>NaN</td>\n",
       "      <td>1.713452e+12</td>\n",
       "      <td>NaN</td>\n",
       "      <td>0</td>\n",
       "      <td>FULL_TIME</td>\n",
       "      <td>USD</td>\n",
       "      <td>BASE_SALARY</td>\n",
       "      <td>70000.0</td>\n",
       "      <td>52601.0</td>\n",
       "      <td>19057.0</td>\n",
       "    </tr>\n",
       "  </tbody>\n",
       "</table>\n",
       "<p>5 rows × 31 columns</p>\n",
       "</div>"
      ]
     },
     "execution_count": 43,
     "metadata": {},
     "output_type": "execute_result"
    }
   ],
   "execution_count": 43
  },
  {
   "cell_type": "code",
   "id": "edfaac586badad0e",
   "metadata": {
    "ExecuteTime": {
     "end_time": "2025-04-02T08:21:35.625704Z",
     "start_time": "2025-04-02T08:21:35.564189Z"
    }
   },
   "source": [
    "missing_percent = (postings.isna().sum() / len(postings)) * 100\n",
    "missing_percent.sort_values(ascending=False)"
   ],
   "outputs": [
    {
     "data": {
      "text/plain": [
       "closed_time                   99.133622\n",
       "skills_desc                   98.030666\n",
       "med_salary                    94.929309\n",
       "remote_allowed                87.689848\n",
       "applies                       81.170619\n",
       "max_salary                    75.944093\n",
       "min_salary                    75.944093\n",
       "currency                      70.873402\n",
       "compensation_type             70.873402\n",
       "normalized_salary             70.873402\n",
       "pay_period                    70.873402\n",
       "posting_domain                32.271556\n",
       "application_url               29.604599\n",
       "formatted_experience_level    23.745852\n",
       "fips                          22.135827\n",
       "zip_code                      16.852780\n",
       "company_name                   1.387981\n",
       "company_id                     1.386366\n",
       "views                          1.363757\n",
       "description                    0.005652\n",
       "work_type                      0.000000\n",
       "sponsored                      0.000000\n",
       "job_id                         0.000000\n",
       "listed_time                    0.000000\n",
       "expiry                         0.000000\n",
       "application_type               0.000000\n",
       "original_listed_time           0.000000\n",
       "formatted_work_type            0.000000\n",
       "location                       0.000000\n",
       "title                          0.000000\n",
       "job_posting_url                0.000000\n",
       "dtype: float64"
      ]
     },
     "execution_count": 44,
     "metadata": {},
     "output_type": "execute_result"
    }
   ],
   "execution_count": 44
  },
  {
   "cell_type": "code",
   "id": "29a45e0c761d0479",
   "metadata": {
    "ExecuteTime": {
     "end_time": "2025-04-02T08:21:38.216505Z",
     "start_time": "2025-04-02T08:21:38.210591Z"
    }
   },
   "source": [
    "missing_percent[missing_percent > 0]"
   ],
   "outputs": [
    {
     "data": {
      "text/plain": [
       "company_name                   1.387981\n",
       "description                    0.005652\n",
       "max_salary                    75.944093\n",
       "pay_period                    70.873402\n",
       "company_id                     1.386366\n",
       "views                          1.363757\n",
       "med_salary                    94.929309\n",
       "min_salary                    75.944093\n",
       "applies                       81.170619\n",
       "remote_allowed                87.689848\n",
       "application_url               29.604599\n",
       "closed_time                   99.133622\n",
       "formatted_experience_level    23.745852\n",
       "skills_desc                   98.030666\n",
       "posting_domain                32.271556\n",
       "currency                      70.873402\n",
       "compensation_type             70.873402\n",
       "normalized_salary             70.873402\n",
       "zip_code                      16.852780\n",
       "fips                          22.135827\n",
       "dtype: float64"
      ]
     },
     "execution_count": 45,
     "metadata": {},
     "output_type": "execute_result"
    }
   ],
   "execution_count": 45
  },
  {
   "cell_type": "code",
   "id": "ff97b05b2a5e01d5",
   "metadata": {
    "ExecuteTime": {
     "end_time": "2025-04-02T08:21:39.478366Z",
     "start_time": "2025-04-02T08:21:39.408587Z"
    }
   },
   "source": [
    "postings.describe()"
   ],
   "outputs": [
    {
     "data": {
      "text/plain": [
       "             job_id    max_salary    company_id          views     med_salary  \\\n",
       "count  1.238490e+05  2.979300e+04  1.221320e+05  122160.000000    6280.000000   \n",
       "mean   3.896402e+09  9.193942e+04  1.220401e+07      14.618247   22015.619876   \n",
       "std    8.404355e+07  7.011101e+05  2.554143e+07      85.903598   52255.873846   \n",
       "min    9.217160e+05  1.000000e+00  1.009000e+03       1.000000       0.000000   \n",
       "25%    3.894587e+09  4.828000e+01  1.435200e+04       3.000000      18.940000   \n",
       "50%    3.901998e+09  8.000000e+04  2.269650e+05       4.000000      25.500000   \n",
       "75%    3.904707e+09  1.400000e+05  8.047188e+06       8.000000    2510.500000   \n",
       "max    3.906267e+09  1.200000e+08  1.034730e+08    9975.000000  750000.000000   \n",
       "\n",
       "         min_salary       applies  original_listed_time  remote_allowed  \\\n",
       "count  2.979300e+04  23320.000000          1.238490e+05         15246.0   \n",
       "mean   6.491085e+04     10.591981          1.713152e+12             1.0   \n",
       "std    4.959738e+05     29.047395          4.848209e+08             0.0   \n",
       "min    1.000000e+00      1.000000          1.701811e+12             1.0   \n",
       "25%    3.700000e+01      1.000000          1.712863e+12             1.0   \n",
       "50%    6.000000e+04      3.000000          1.713395e+12             1.0   \n",
       "75%    1.000000e+05      8.000000          1.713478e+12             1.0   \n",
       "max    8.500000e+07    967.000000          1.713573e+12             1.0   \n",
       "\n",
       "             expiry   closed_time   listed_time  sponsored  normalized_salary  \\\n",
       "count  1.238490e+05  1.073000e+03  1.238490e+05   123849.0       3.607300e+04   \n",
       "mean   1.716213e+12  1.712928e+12  1.713204e+12        0.0       2.053270e+05   \n",
       "std    2.321394e+09  3.622893e+08  3.989122e+08        0.0       5.097627e+06   \n",
       "min    1.712903e+12  1.712346e+12  1.711317e+12        0.0       0.000000e+00   \n",
       "25%    1.715481e+12  1.712670e+12  1.712886e+12        0.0       5.200000e+04   \n",
       "50%    1.716042e+12  1.712670e+12  1.713408e+12        0.0       8.150000e+04   \n",
       "75%    1.716088e+12  1.713283e+12  1.713484e+12        0.0       1.250000e+05   \n",
       "max    1.729125e+12  1.713562e+12  1.713573e+12        0.0       5.356000e+08   \n",
       "\n",
       "            zip_code          fips  \n",
       "count  102977.000000  96434.000000  \n",
       "mean    50400.491887  28713.879887  \n",
       "std     30252.232515  16015.929825  \n",
       "min      1001.000000   1003.000000  \n",
       "25%     24112.000000  13121.000000  \n",
       "50%     48059.000000  29183.000000  \n",
       "75%     78201.000000  42077.000000  \n",
       "max     99901.000000  56045.000000  "
      ],
      "text/html": [
       "<div>\n",
       "<style scoped>\n",
       "    .dataframe tbody tr th:only-of-type {\n",
       "        vertical-align: middle;\n",
       "    }\n",
       "\n",
       "    .dataframe tbody tr th {\n",
       "        vertical-align: top;\n",
       "    }\n",
       "\n",
       "    .dataframe thead th {\n",
       "        text-align: right;\n",
       "    }\n",
       "</style>\n",
       "<table border=\"1\" class=\"dataframe\">\n",
       "  <thead>\n",
       "    <tr style=\"text-align: right;\">\n",
       "      <th></th>\n",
       "      <th>job_id</th>\n",
       "      <th>max_salary</th>\n",
       "      <th>company_id</th>\n",
       "      <th>views</th>\n",
       "      <th>med_salary</th>\n",
       "      <th>min_salary</th>\n",
       "      <th>applies</th>\n",
       "      <th>original_listed_time</th>\n",
       "      <th>remote_allowed</th>\n",
       "      <th>expiry</th>\n",
       "      <th>closed_time</th>\n",
       "      <th>listed_time</th>\n",
       "      <th>sponsored</th>\n",
       "      <th>normalized_salary</th>\n",
       "      <th>zip_code</th>\n",
       "      <th>fips</th>\n",
       "    </tr>\n",
       "  </thead>\n",
       "  <tbody>\n",
       "    <tr>\n",
       "      <th>count</th>\n",
       "      <td>1.238490e+05</td>\n",
       "      <td>2.979300e+04</td>\n",
       "      <td>1.221320e+05</td>\n",
       "      <td>122160.000000</td>\n",
       "      <td>6280.000000</td>\n",
       "      <td>2.979300e+04</td>\n",
       "      <td>23320.000000</td>\n",
       "      <td>1.238490e+05</td>\n",
       "      <td>15246.0</td>\n",
       "      <td>1.238490e+05</td>\n",
       "      <td>1.073000e+03</td>\n",
       "      <td>1.238490e+05</td>\n",
       "      <td>123849.0</td>\n",
       "      <td>3.607300e+04</td>\n",
       "      <td>102977.000000</td>\n",
       "      <td>96434.000000</td>\n",
       "    </tr>\n",
       "    <tr>\n",
       "      <th>mean</th>\n",
       "      <td>3.896402e+09</td>\n",
       "      <td>9.193942e+04</td>\n",
       "      <td>1.220401e+07</td>\n",
       "      <td>14.618247</td>\n",
       "      <td>22015.619876</td>\n",
       "      <td>6.491085e+04</td>\n",
       "      <td>10.591981</td>\n",
       "      <td>1.713152e+12</td>\n",
       "      <td>1.0</td>\n",
       "      <td>1.716213e+12</td>\n",
       "      <td>1.712928e+12</td>\n",
       "      <td>1.713204e+12</td>\n",
       "      <td>0.0</td>\n",
       "      <td>2.053270e+05</td>\n",
       "      <td>50400.491887</td>\n",
       "      <td>28713.879887</td>\n",
       "    </tr>\n",
       "    <tr>\n",
       "      <th>std</th>\n",
       "      <td>8.404355e+07</td>\n",
       "      <td>7.011101e+05</td>\n",
       "      <td>2.554143e+07</td>\n",
       "      <td>85.903598</td>\n",
       "      <td>52255.873846</td>\n",
       "      <td>4.959738e+05</td>\n",
       "      <td>29.047395</td>\n",
       "      <td>4.848209e+08</td>\n",
       "      <td>0.0</td>\n",
       "      <td>2.321394e+09</td>\n",
       "      <td>3.622893e+08</td>\n",
       "      <td>3.989122e+08</td>\n",
       "      <td>0.0</td>\n",
       "      <td>5.097627e+06</td>\n",
       "      <td>30252.232515</td>\n",
       "      <td>16015.929825</td>\n",
       "    </tr>\n",
       "    <tr>\n",
       "      <th>min</th>\n",
       "      <td>9.217160e+05</td>\n",
       "      <td>1.000000e+00</td>\n",
       "      <td>1.009000e+03</td>\n",
       "      <td>1.000000</td>\n",
       "      <td>0.000000</td>\n",
       "      <td>1.000000e+00</td>\n",
       "      <td>1.000000</td>\n",
       "      <td>1.701811e+12</td>\n",
       "      <td>1.0</td>\n",
       "      <td>1.712903e+12</td>\n",
       "      <td>1.712346e+12</td>\n",
       "      <td>1.711317e+12</td>\n",
       "      <td>0.0</td>\n",
       "      <td>0.000000e+00</td>\n",
       "      <td>1001.000000</td>\n",
       "      <td>1003.000000</td>\n",
       "    </tr>\n",
       "    <tr>\n",
       "      <th>25%</th>\n",
       "      <td>3.894587e+09</td>\n",
       "      <td>4.828000e+01</td>\n",
       "      <td>1.435200e+04</td>\n",
       "      <td>3.000000</td>\n",
       "      <td>18.940000</td>\n",
       "      <td>3.700000e+01</td>\n",
       "      <td>1.000000</td>\n",
       "      <td>1.712863e+12</td>\n",
       "      <td>1.0</td>\n",
       "      <td>1.715481e+12</td>\n",
       "      <td>1.712670e+12</td>\n",
       "      <td>1.712886e+12</td>\n",
       "      <td>0.0</td>\n",
       "      <td>5.200000e+04</td>\n",
       "      <td>24112.000000</td>\n",
       "      <td>13121.000000</td>\n",
       "    </tr>\n",
       "    <tr>\n",
       "      <th>50%</th>\n",
       "      <td>3.901998e+09</td>\n",
       "      <td>8.000000e+04</td>\n",
       "      <td>2.269650e+05</td>\n",
       "      <td>4.000000</td>\n",
       "      <td>25.500000</td>\n",
       "      <td>6.000000e+04</td>\n",
       "      <td>3.000000</td>\n",
       "      <td>1.713395e+12</td>\n",
       "      <td>1.0</td>\n",
       "      <td>1.716042e+12</td>\n",
       "      <td>1.712670e+12</td>\n",
       "      <td>1.713408e+12</td>\n",
       "      <td>0.0</td>\n",
       "      <td>8.150000e+04</td>\n",
       "      <td>48059.000000</td>\n",
       "      <td>29183.000000</td>\n",
       "    </tr>\n",
       "    <tr>\n",
       "      <th>75%</th>\n",
       "      <td>3.904707e+09</td>\n",
       "      <td>1.400000e+05</td>\n",
       "      <td>8.047188e+06</td>\n",
       "      <td>8.000000</td>\n",
       "      <td>2510.500000</td>\n",
       "      <td>1.000000e+05</td>\n",
       "      <td>8.000000</td>\n",
       "      <td>1.713478e+12</td>\n",
       "      <td>1.0</td>\n",
       "      <td>1.716088e+12</td>\n",
       "      <td>1.713283e+12</td>\n",
       "      <td>1.713484e+12</td>\n",
       "      <td>0.0</td>\n",
       "      <td>1.250000e+05</td>\n",
       "      <td>78201.000000</td>\n",
       "      <td>42077.000000</td>\n",
       "    </tr>\n",
       "    <tr>\n",
       "      <th>max</th>\n",
       "      <td>3.906267e+09</td>\n",
       "      <td>1.200000e+08</td>\n",
       "      <td>1.034730e+08</td>\n",
       "      <td>9975.000000</td>\n",
       "      <td>750000.000000</td>\n",
       "      <td>8.500000e+07</td>\n",
       "      <td>967.000000</td>\n",
       "      <td>1.713573e+12</td>\n",
       "      <td>1.0</td>\n",
       "      <td>1.729125e+12</td>\n",
       "      <td>1.713562e+12</td>\n",
       "      <td>1.713573e+12</td>\n",
       "      <td>0.0</td>\n",
       "      <td>5.356000e+08</td>\n",
       "      <td>99901.000000</td>\n",
       "      <td>56045.000000</td>\n",
       "    </tr>\n",
       "  </tbody>\n",
       "</table>\n",
       "</div>"
      ]
     },
     "execution_count": 46,
     "metadata": {},
     "output_type": "execute_result"
    }
   ],
   "execution_count": 46
  },
  {
   "cell_type": "code",
   "id": "ad8d0dbbd9494ebd",
   "metadata": {
    "ExecuteTime": {
     "end_time": "2025-04-02T08:21:40.926993Z",
     "start_time": "2025-04-02T08:21:40.447246Z"
    }
   },
   "source": [
    "postings.describe(include='object')"
   ],
   "outputs": [
    {
     "data": {
      "text/plain": [
       "                                          company_name          title  \\\n",
       "count                                           122130         123849   \n",
       "unique                                           24428          72521   \n",
       "top     Liberty Healthcare and Rehabilitation Services  Sales Manager   \n",
       "freq                                              1108            673   \n",
       "\n",
       "                                              description pay_period  \\\n",
       "count                                              123842      36073   \n",
       "unique                                             107827          5   \n",
       "top     Position Summary: Our Sales Manager has managi...     YEARLY   \n",
       "freq                                                  474      20628   \n",
       "\n",
       "             location formatted_work_type  \\\n",
       "count          123849              123849   \n",
       "unique           8526                   7   \n",
       "top     United States           Full-time   \n",
       "freq             8125               98814   \n",
       "\n",
       "                                          job_posting_url  \\\n",
       "count                                              123849   \n",
       "unique                                             123849   \n",
       "top     https://www.linkedin.com/jobs/view/921716/?trk...   \n",
       "freq                                                    1   \n",
       "\n",
       "                                          application_url application_type  \\\n",
       "count                                               87184           123849   \n",
       "unique                                              84800                4   \n",
       "top     https://app.dataannotation.tech/worker_signup?...     OffsiteApply   \n",
       "freq                                                  205            84607   \n",
       "\n",
       "       formatted_experience_level  \\\n",
       "count                       94440   \n",
       "unique                          6   \n",
       "top              Mid-Senior level   \n",
       "freq                        41489   \n",
       "\n",
       "                                              skills_desc  \\\n",
       "count                                                2439   \n",
       "unique                                               2212   \n",
       "top     This position requires the following skills: E...   \n",
       "freq                                                   28   \n",
       "\n",
       "             posting_domain  work_type currency compensation_type  \n",
       "count                 83881     123849    36073             36073  \n",
       "unique                 4443          7        6                 1  \n",
       "top     www.click2apply.net  FULL_TIME      USD       BASE_SALARY  \n",
       "freq                   3811      98814    36058             36073  "
      ],
      "text/html": [
       "<div>\n",
       "<style scoped>\n",
       "    .dataframe tbody tr th:only-of-type {\n",
       "        vertical-align: middle;\n",
       "    }\n",
       "\n",
       "    .dataframe tbody tr th {\n",
       "        vertical-align: top;\n",
       "    }\n",
       "\n",
       "    .dataframe thead th {\n",
       "        text-align: right;\n",
       "    }\n",
       "</style>\n",
       "<table border=\"1\" class=\"dataframe\">\n",
       "  <thead>\n",
       "    <tr style=\"text-align: right;\">\n",
       "      <th></th>\n",
       "      <th>company_name</th>\n",
       "      <th>title</th>\n",
       "      <th>description</th>\n",
       "      <th>pay_period</th>\n",
       "      <th>location</th>\n",
       "      <th>formatted_work_type</th>\n",
       "      <th>job_posting_url</th>\n",
       "      <th>application_url</th>\n",
       "      <th>application_type</th>\n",
       "      <th>formatted_experience_level</th>\n",
       "      <th>skills_desc</th>\n",
       "      <th>posting_domain</th>\n",
       "      <th>work_type</th>\n",
       "      <th>currency</th>\n",
       "      <th>compensation_type</th>\n",
       "    </tr>\n",
       "  </thead>\n",
       "  <tbody>\n",
       "    <tr>\n",
       "      <th>count</th>\n",
       "      <td>122130</td>\n",
       "      <td>123849</td>\n",
       "      <td>123842</td>\n",
       "      <td>36073</td>\n",
       "      <td>123849</td>\n",
       "      <td>123849</td>\n",
       "      <td>123849</td>\n",
       "      <td>87184</td>\n",
       "      <td>123849</td>\n",
       "      <td>94440</td>\n",
       "      <td>2439</td>\n",
       "      <td>83881</td>\n",
       "      <td>123849</td>\n",
       "      <td>36073</td>\n",
       "      <td>36073</td>\n",
       "    </tr>\n",
       "    <tr>\n",
       "      <th>unique</th>\n",
       "      <td>24428</td>\n",
       "      <td>72521</td>\n",
       "      <td>107827</td>\n",
       "      <td>5</td>\n",
       "      <td>8526</td>\n",
       "      <td>7</td>\n",
       "      <td>123849</td>\n",
       "      <td>84800</td>\n",
       "      <td>4</td>\n",
       "      <td>6</td>\n",
       "      <td>2212</td>\n",
       "      <td>4443</td>\n",
       "      <td>7</td>\n",
       "      <td>6</td>\n",
       "      <td>1</td>\n",
       "    </tr>\n",
       "    <tr>\n",
       "      <th>top</th>\n",
       "      <td>Liberty Healthcare and Rehabilitation Services</td>\n",
       "      <td>Sales Manager</td>\n",
       "      <td>Position Summary: Our Sales Manager has managi...</td>\n",
       "      <td>YEARLY</td>\n",
       "      <td>United States</td>\n",
       "      <td>Full-time</td>\n",
       "      <td>https://www.linkedin.com/jobs/view/921716/?trk...</td>\n",
       "      <td>https://app.dataannotation.tech/worker_signup?...</td>\n",
       "      <td>OffsiteApply</td>\n",
       "      <td>Mid-Senior level</td>\n",
       "      <td>This position requires the following skills: E...</td>\n",
       "      <td>www.click2apply.net</td>\n",
       "      <td>FULL_TIME</td>\n",
       "      <td>USD</td>\n",
       "      <td>BASE_SALARY</td>\n",
       "    </tr>\n",
       "    <tr>\n",
       "      <th>freq</th>\n",
       "      <td>1108</td>\n",
       "      <td>673</td>\n",
       "      <td>474</td>\n",
       "      <td>20628</td>\n",
       "      <td>8125</td>\n",
       "      <td>98814</td>\n",
       "      <td>1</td>\n",
       "      <td>205</td>\n",
       "      <td>84607</td>\n",
       "      <td>41489</td>\n",
       "      <td>28</td>\n",
       "      <td>3811</td>\n",
       "      <td>98814</td>\n",
       "      <td>36058</td>\n",
       "      <td>36073</td>\n",
       "    </tr>\n",
       "  </tbody>\n",
       "</table>\n",
       "</div>"
      ]
     },
     "execution_count": 47,
     "metadata": {},
     "output_type": "execute_result"
    }
   ],
   "execution_count": 47
  },
  {
   "metadata": {},
   "cell_type": "markdown",
   "source": "",
   "id": "9df4f548639d7fb7"
  },
  {
   "cell_type": "markdown",
   "id": "83ae38de230369f7",
   "metadata": {},
   "source": [
    "# Target - normal_salary"
   ]
  },
  {
   "cell_type": "markdown",
   "id": "85c680a6a8fb9460",
   "metadata": {},
   "source": [
    "Najwieksze wartosci normalized_salary:"
   ]
  },
  {
   "cell_type": "code",
   "id": "c9407796e9fb9450",
   "metadata": {
    "ExecuteTime": {
     "end_time": "2025-04-02T08:21:44.207059Z",
     "start_time": "2025-04-02T08:21:44.194827Z"
    }
   },
   "source": [
    "postings[['normalized_salary']].sort_values(by='normalized_salary', ascending=False).head(10)"
   ],
   "outputs": [
    {
     "data": {
      "text/plain": [
       "        normalized_salary\n",
       "9237          535600000.0\n",
       "98888         362408800.0\n",
       "13614         286000000.0\n",
       "89082         286000000.0\n",
       "60038         260000000.0\n",
       "102481        230423440.0\n",
       "71845         228800000.0\n",
       "72585         187200000.0\n",
       "17646         156000000.0\n",
       "87241         135200000.0"
      ],
      "text/html": [
       "<div>\n",
       "<style scoped>\n",
       "    .dataframe tbody tr th:only-of-type {\n",
       "        vertical-align: middle;\n",
       "    }\n",
       "\n",
       "    .dataframe tbody tr th {\n",
       "        vertical-align: top;\n",
       "    }\n",
       "\n",
       "    .dataframe thead th {\n",
       "        text-align: right;\n",
       "    }\n",
       "</style>\n",
       "<table border=\"1\" class=\"dataframe\">\n",
       "  <thead>\n",
       "    <tr style=\"text-align: right;\">\n",
       "      <th></th>\n",
       "      <th>normalized_salary</th>\n",
       "    </tr>\n",
       "  </thead>\n",
       "  <tbody>\n",
       "    <tr>\n",
       "      <th>9237</th>\n",
       "      <td>535600000.0</td>\n",
       "    </tr>\n",
       "    <tr>\n",
       "      <th>98888</th>\n",
       "      <td>362408800.0</td>\n",
       "    </tr>\n",
       "    <tr>\n",
       "      <th>13614</th>\n",
       "      <td>286000000.0</td>\n",
       "    </tr>\n",
       "    <tr>\n",
       "      <th>89082</th>\n",
       "      <td>286000000.0</td>\n",
       "    </tr>\n",
       "    <tr>\n",
       "      <th>60038</th>\n",
       "      <td>260000000.0</td>\n",
       "    </tr>\n",
       "    <tr>\n",
       "      <th>102481</th>\n",
       "      <td>230423440.0</td>\n",
       "    </tr>\n",
       "    <tr>\n",
       "      <th>71845</th>\n",
       "      <td>228800000.0</td>\n",
       "    </tr>\n",
       "    <tr>\n",
       "      <th>72585</th>\n",
       "      <td>187200000.0</td>\n",
       "    </tr>\n",
       "    <tr>\n",
       "      <th>17646</th>\n",
       "      <td>156000000.0</td>\n",
       "    </tr>\n",
       "    <tr>\n",
       "      <th>87241</th>\n",
       "      <td>135200000.0</td>\n",
       "    </tr>\n",
       "  </tbody>\n",
       "</table>\n",
       "</div>"
      ]
     },
     "execution_count": 48,
     "metadata": {},
     "output_type": "execute_result"
    }
   ],
   "execution_count": 48
  },
  {
   "cell_type": "markdown",
   "id": "363f65d094989baf",
   "metadata": {},
   "source": [
    "USUWANIE outlierow METODĄ IGR:"
   ]
  },
  {
   "cell_type": "code",
   "id": "148e022a334272d5",
   "metadata": {
    "ExecuteTime": {
     "end_time": "2025-04-02T09:02:27.073562Z",
     "start_time": "2025-04-02T09:02:27.037929Z"
    }
   },
   "source": [
    "# Oblicz wartości kwartylowe\n",
    "q1 = postings['normalized_salary'].quantile(0.25)\n",
    "q3 = postings['normalized_salary'].quantile(0.75)\n",
    "iqr = q3 - q1\n",
    "\n",
    "# Górna granica outlierów\n",
    "upper_bound = q3 + 1.5 * iqr\n",
    "\n",
    "# Tworzymy wersję danych bez outlierów (IQR)\n",
    "postings_iqr = postings[postings['normalized_salary'] <= upper_bound].copy()\n",
    "\n",
    "print(f\"Liczba ogłoszeń po filtrze IQR: {len(postings_iqr)} z {len(postings)}\")\n",
    "print(f\"Granica IQR: {upper_bound}\")"
   ],
   "outputs": [
    {
     "name": "stdout",
     "output_type": "stream",
     "text": [
      "Liczba ogłoszeń po filtrze IQR: 35121 z 123849\n",
      "Granica IQR: 234500.0\n"
     ]
    }
   ],
   "execution_count": 77
  },
  {
   "cell_type": "markdown",
   "id": "b67c3b542f2a3043",
   "metadata": {},
   "source": [
    "Usuwanie arbitralnie (cięcie)"
   ]
  },
  {
   "cell_type": "code",
   "id": "371d177ebec8e222",
   "metadata": {
    "ExecuteTime": {
     "end_time": "2025-04-02T08:21:50.560844Z",
     "start_time": "2025-04-02T08:21:50.532846Z"
    }
   },
   "source": [
    "salary_cutoff = 1_000_000\n",
    "postings_cutoff = postings[postings['normalized_salary'] <= salary_cutoff].copy()\n",
    "\n",
    "print(f\"Liczba ogłoszeń po arbitralnym cieciu: {len(postings_cutoff)} z {len(postings)}\")\n"
   ],
   "outputs": [
    {
     "name": "stdout",
     "output_type": "stream",
     "text": [
      "Liczba ogłoszeń po arbitralnym cieciu: 36035 z 123849\n"
     ]
    }
   ],
   "execution_count": 50
  },
  {
   "cell_type": "markdown",
   "id": "ea65943d454814d",
   "metadata": {},
   "source": [
    "Porównanie histogramow:"
   ]
  },
  {
   "cell_type": "code",
   "id": "a11c8c667467187",
   "metadata": {
    "ExecuteTime": {
     "end_time": "2025-04-02T08:21:54.654836Z",
     "start_time": "2025-04-02T08:21:53.887622Z"
    }
   },
   "source": [
    "fig, axs = plt.subplots(1, 2, figsize=(16, 6))\n",
    "\n",
    "# IQR\n",
    "sns.histplot(postings_iqr['normalized_salary'], bins=50, kde=True, ax=axs[0])\n",
    "axs[0].set_title('Rozkład normalized_salary (IQR)')\n",
    "axs[0].set_xlabel('normalized_salary')\n",
    "axs[0].set_ylabel('Liczba ogłoszeń')\n",
    "\n",
    "# Arbitralny cutoff\n",
    "sns.histplot(postings_cutoff['normalized_salary'], bins=50, kde=True, ax=axs[1])\n",
    "axs[1].set_title('Rozkład normalized_salary (cutoff = 1 mln)')\n",
    "axs[1].set_xlabel('normalized_salary')\n",
    "axs[1].set_ylabel('Liczba ogłoszeń')\n",
    "\n",
    "plt.tight_layout()\n",
    "plt.show()\n"
   ],
   "outputs": [
    {
     "name": "stderr",
     "output_type": "stream",
     "text": [
      "C:\\Users\\wiatr\\anaconda3\\Lib\\site-packages\\seaborn\\_oldcore.py:1119: FutureWarning: use_inf_as_na option is deprecated and will be removed in a future version. Convert inf values to NaN before operating instead.\n",
      "  with pd.option_context('mode.use_inf_as_na', True):\n",
      "C:\\Users\\wiatr\\anaconda3\\Lib\\site-packages\\seaborn\\_oldcore.py:1119: FutureWarning: use_inf_as_na option is deprecated and will be removed in a future version. Convert inf values to NaN before operating instead.\n",
      "  with pd.option_context('mode.use_inf_as_na', True):\n"
     ]
    },
    {
     "data": {
      "text/plain": [
       "<Figure size 1600x600 with 2 Axes>"
      ],
      "image/png": "[encoded data removed]"
     },
     "metadata": {},
     "output_type": "display_data"
    }
   ],
   "execution_count": 51
  },
  {
   "cell_type": "markdown",
   "id": "f5bf26a498de09be",
   "metadata": {},
   "source": [
    "Porównanie podstawowych statystyk:"
   ]
  },
  {
   "cell_type": "code",
   "id": "fae3bc7ea995193b",
   "metadata": {
    "ExecuteTime": {
     "end_time": "2025-04-02T08:21:58.033715Z",
     "start_time": "2025-04-02T08:21:58.024349Z"
    }
   },
   "source": [
    "print(\"STATYSTYKI IQR\")\n",
    "print(postings_iqr['normalized_salary'].describe())\n",
    "\n",
    "print(\"\\nSTATYSTYKI CUTOFF\")\n",
    "print(postings_cutoff['normalized_salary'].describe())"
   ],
   "outputs": [
    {
     "name": "stdout",
     "output_type": "stream",
     "text": [
      "STATYSTYKI IQR\n",
      "count     35121.000000\n",
      "mean      89683.318165\n",
      "std       47324.396358\n",
      "min           0.000000\n",
      "25%       50960.000000\n",
      "50%       80000.000000\n",
      "75%      120000.000000\n",
      "max      234500.000000\n",
      "Name: normalized_salary, dtype: float64\n",
      "\n",
      "STATYSTYKI CUTOFF\n",
      "count     36035.000000\n",
      "mean      95477.892806\n",
      "std       61476.056372\n",
      "min           0.000000\n",
      "25%       51978.550000\n",
      "50%       81255.200000\n",
      "75%      124800.000000\n",
      "max      960000.000000\n",
      "Name: normalized_salary, dtype: float64\n"
     ]
    }
   ],
   "execution_count": 52
  },
  {
   "cell_type": "markdown",
   "id": "708772118bc5c5e",
   "metadata": {},
   "source": [
    "### Czyszczenie pozostałych danych:\n",
    "Usunięcie kolumn niepotrzebnych i z bardzo dużą ilością braków: "
   ]
  },
  {
   "cell_type": "code",
   "id": "9651276203e6207e",
   "metadata": {
    "ExecuteTime": {
     "end_time": "2025-04-02T09:02:36.754623Z",
     "start_time": "2025-04-02T09:02:36.750116Z"
    }
   },
   "source": [
    "cols_to_drop = [\n",
    "    'closed_time', 'skills_desc', 'med_salary', 'max_salary', 'min_salary',\n",
    "     'applies', 'views', 'application_url', 'posting_domain',\n",
    "    'fips', 'zip_code', 'job_posting_url', 'description', 'original_listed_time', 'listed_time', 'expiry', 'sponsored', 'formatted_work_type'\n",
    "]"
   ],
   "outputs": [],
   "execution_count": 78
  },
  {
   "cell_type": "code",
   "id": "2723007d72a13508",
   "metadata": {
    "ExecuteTime": {
     "end_time": "2025-04-02T09:02:39.360883Z",
     "start_time": "2025-04-02T09:02:39.345445Z"
    }
   },
   "source": [
    "postings_model_input = postings_iqr.copy()"
   ],
   "outputs": [],
   "execution_count": 79
  },
  {
   "cell_type": "code",
   "id": "d47e9e41e42d654d",
   "metadata": {
    "ExecuteTime": {
     "end_time": "2025-04-02T09:02:39.920059Z",
     "start_time": "2025-04-02T09:02:39.908910Z"
    }
   },
   "source": "postings_cleaned = postings_model_input.drop(columns=cols_to_drop)",
   "outputs": [],
   "execution_count": 80
  },
  {
   "cell_type": "markdown",
   "id": "6508c2023832e271",
   "metadata": {},
   "source": [
    "Usunięcie wierszy z brakami w kluczowych kolumnach:"
   ]
  },
  {
   "cell_type": "code",
   "id": "e99b92001c6d8d76",
   "metadata": {
    "ExecuteTime": {
     "end_time": "2025-04-02T09:02:41.099220Z",
     "start_time": "2025-04-02T09:02:41.088649Z"
    }
   },
   "source": [
    "salary_essential = ['normalized_salary', 'currency', 'pay_period', 'compensation_type']\n",
    "postings_cleaned = postings_cleaned.dropna(subset=salary_essential)"
   ],
   "outputs": [],
   "execution_count": 81
  },
  {
   "cell_type": "markdown",
   "id": "14689fc253411b39",
   "metadata": {},
   "source": [
    "Imputacja dla małych braków - experience level:"
   ]
  },
  {
   "cell_type": "code",
   "id": "4a88ad105fc9610d",
   "metadata": {
    "ExecuteTime": {
     "end_time": "2025-04-02T09:02:44.510750Z",
     "start_time": "2025-04-02T09:02:44.502874Z"
    }
   },
   "source": [
    "if postings_cleaned['formatted_experience_level'].isna().sum() > 0:\n",
    "    exp_mode = postings_cleaned['formatted_experience_level'].mode()[0]\n",
    "    postings_cleaned['formatted_experience_level'] = postings_cleaned['formatted_experience_level'].fillna(exp_mode)"
   ],
   "outputs": [],
   "execution_count": 82
  },
  {
   "cell_type": "markdown",
   "id": "95bd084d17069dfe",
   "metadata": {},
   "source": [
    "Usunięcie pojedynczych wierszy z minimalnymi brakami (company_name, company_id...)"
   ]
  },
  {
   "cell_type": "code",
   "id": "eeba603e28aa60a6",
   "metadata": {
    "ExecuteTime": {
     "end_time": "2025-04-02T09:02:48.125026Z",
     "start_time": "2025-04-02T09:02:48.110751Z"
    }
   },
   "source": [
    "essential_low_nulls = ['company_name', 'company_id', 'work_type', 'application_type']\n",
    "postings_cleaned = postings_cleaned.dropna(subset=essential_low_nulls)"
   ],
   "outputs": [],
   "execution_count": 83
  },
  {
   "metadata": {},
   "cell_type": "markdown",
   "source": "Sprawdzenie ile jest niepustych wartosci remote_allowed:",
   "id": "1d0bc8d80323c285"
  },
  {
   "metadata": {
    "ExecuteTime": {
     "end_time": "2025-04-02T09:02:49.172421Z",
     "start_time": "2025-04-02T09:02:49.167272Z"
    }
   },
   "cell_type": "code",
   "source": "print(postings_cleaned['remote_allowed'].value_counts())",
   "id": "2316370e2d4254a5",
   "outputs": [
    {
     "name": "stdout",
     "output_type": "stream",
     "text": [
      "remote_allowed\n",
      "1.0    4566\n",
      "Name: count, dtype: int64\n"
     ]
    }
   ],
   "execution_count": 84
  },
  {
   "cell_type": "markdown",
   "id": "cb459accffd86425",
   "metadata": {},
   "source": [
    "Sprawdzenie rozmiaru danych przed i po czyszczeniu:"
   ]
  },
  {
   "cell_type": "code",
   "id": "dabfa8be72433ec6",
   "metadata": {
    "ExecuteTime": {
     "end_time": "2025-04-02T08:22:31.528769Z",
     "start_time": "2025-04-02T08:22:31.513768Z"
    }
   },
   "source": [
    "print(\"Rozmiar danych PO CZYSZCZENIU:\")\n",
    "print(f\"Liczba ofert: {len(postings_cleaned)}\")\n",
    "print(f\"Liczba kolumn: {postings_cleaned.shape[1]}\")\n",
    "print(f\"Liczba braków (po czyszczeniu): \\n{postings_cleaned.isna().sum().sort_values(ascending=False).head(10)}\")"
   ],
   "outputs": [
    {
     "name": "stdout",
     "output_type": "stream",
     "text": [
      "Rozmiar danych PO CZYSZCZENIU:\n",
      "Liczba ofert: 34625\n",
      "Liczba kolumn: 12\n",
      "Liczba braków (po czyszczeniu): \n",
      "job_id                        0\n",
      "company_name                  0\n",
      "title                         0\n",
      "pay_period                    0\n",
      "location                      0\n",
      "company_id                    0\n",
      "application_type              0\n",
      "formatted_experience_level    0\n",
      "work_type                     0\n",
      "currency                      0\n",
      "dtype: int64\n"
     ]
    }
   ],
   "execution_count": 59
  },
  {
   "cell_type": "markdown",
   "id": "7e3811ab12bfae3f",
   "metadata": {},
   "source": [
    "Tymczasowe pokazanie kilku pierwszych wierszy wyczyszczonego wstępnie zbioru:"
   ]
  },
  {
   "cell_type": "code",
   "id": "a0746927fd48e520",
   "metadata": {
    "ExecuteTime": {
     "end_time": "2025-04-02T08:24:03.928914Z",
     "start_time": "2025-04-02T08:24:03.916401Z"
    }
   },
   "source": [
    "postings_cleaned.head(10)"
   ],
   "outputs": [
    {
     "data": {
      "text/plain": [
       "       job_id                                       company_name  \\\n",
       "0      921716                              Corcoran Sawyer Smith   \n",
       "2    10998357                             The National Exemplar    \n",
       "3    23221523                             Abrams Fensterman, LLP   \n",
       "5    91700727                          Downtown Raleigh Alliance   \n",
       "6   103254301                                         Raw Cereal   \n",
       "9     2264355                                    Bay West Church   \n",
       "16   95428182                           CLEVELAND KIDS BOOK BANK   \n",
       "30  229924287  REquipment Durable Medical Equipment and Assis...   \n",
       "35  266566927                                 Revesco Properties   \n",
       "36  266825034                                 Recruitment Design   \n",
       "\n",
       "                                                title pay_period  \\\n",
       "0                               Marketing Coordinator     HOURLY   \n",
       "2                         Assitant Restaurant Manager     YEARLY   \n",
       "3   Senior Elder Law / Trusts and Estates Associat...     YEARLY   \n",
       "5            Economic Development and Planning Intern     HOURLY   \n",
       "6                                            Producer     YEARLY   \n",
       "9                                      Worship Leader    MONTHLY   \n",
       "16                         Administrative Coordinator     HOURLY   \n",
       "30                           Administrative Assistant     HOURLY   \n",
       "35                     Marketing & Office Coordinator     YEARLY   \n",
       "36                        Software Support Specialist     YEARLY   \n",
       "\n",
       "             location  company_id    application_type  \\\n",
       "0       Princeton, NJ   2774458.0  ComplexOnsiteApply   \n",
       "2      Cincinnati, OH  64896719.0  ComplexOnsiteApply   \n",
       "3   New Hyde Park, NY    766262.0  ComplexOnsiteApply   \n",
       "5         Raleigh, NC   1481176.0  ComplexOnsiteApply   \n",
       "6       United States  81942316.0   SimpleOnsiteApply   \n",
       "9        Palm Bay, FL  28631247.0  ComplexOnsiteApply   \n",
       "16      Cleveland, OH  55624331.0        OffsiteApply   \n",
       "30         Woburn, MA  14773918.0  ComplexOnsiteApply   \n",
       "35         Denver, CO   8577252.0   SimpleOnsiteApply   \n",
       "36         McLean, VA  99212509.0  ComplexOnsiteApply   \n",
       "\n",
       "   formatted_experience_level   work_type currency compensation_type  \\\n",
       "0            Mid-Senior level   FULL_TIME      USD       BASE_SALARY   \n",
       "2            Mid-Senior level   FULL_TIME      USD       BASE_SALARY   \n",
       "3            Mid-Senior level   FULL_TIME      USD       BASE_SALARY   \n",
       "5            Mid-Senior level  INTERNSHIP      USD       BASE_SALARY   \n",
       "6            Mid-Senior level    CONTRACT      USD       BASE_SALARY   \n",
       "9            Mid-Senior level   PART_TIME      USD       BASE_SALARY   \n",
       "16           Mid-Senior level   FULL_TIME      USD       BASE_SALARY   \n",
       "30           Mid-Senior level   PART_TIME      USD       BASE_SALARY   \n",
       "35           Mid-Senior level   FULL_TIME      USD       BASE_SALARY   \n",
       "36           Mid-Senior level   FULL_TIME      USD       BASE_SALARY   \n",
       "\n",
       "    normalized_salary  \n",
       "0             38480.0  \n",
       "2             55000.0  \n",
       "3            157500.0  \n",
       "5             35360.0  \n",
       "6            180000.0  \n",
       "9              4200.0  \n",
       "16            52000.0  \n",
       "30            47840.0  \n",
       "35            65000.0  \n",
       "36            62500.0  "
      ],
      "text/html": [
       "<div>\n",
       "<style scoped>\n",
       "    .dataframe tbody tr th:only-of-type {\n",
       "        vertical-align: middle;\n",
       "    }\n",
       "\n",
       "    .dataframe tbody tr th {\n",
       "        vertical-align: top;\n",
       "    }\n",
       "\n",
       "    .dataframe thead th {\n",
       "        text-align: right;\n",
       "    }\n",
       "</style>\n",
       "<table border=\"1\" class=\"dataframe\">\n",
       "  <thead>\n",
       "    <tr style=\"text-align: right;\">\n",
       "      <th></th>\n",
       "      <th>job_id</th>\n",
       "      <th>company_name</th>\n",
       "      <th>title</th>\n",
       "      <th>pay_period</th>\n",
       "      <th>location</th>\n",
       "      <th>company_id</th>\n",
       "      <th>application_type</th>\n",
       "      <th>formatted_experience_level</th>\n",
       "      <th>work_type</th>\n",
       "      <th>currency</th>\n",
       "      <th>compensation_type</th>\n",
       "      <th>normalized_salary</th>\n",
       "    </tr>\n",
       "  </thead>\n",
       "  <tbody>\n",
       "    <tr>\n",
       "      <th>0</th>\n",
       "      <td>921716</td>\n",
       "      <td>Corcoran Sawyer Smith</td>\n",
       "      <td>Marketing Coordinator</td>\n",
       "      <td>HOURLY</td>\n",
       "      <td>Princeton, NJ</td>\n",
       "      <td>2774458.0</td>\n",
       "      <td>ComplexOnsiteApply</td>\n",
       "      <td>Mid-Senior level</td>\n",
       "      <td>FULL_TIME</td>\n",
       "      <td>USD</td>\n",
       "      <td>BASE_SALARY</td>\n",
       "      <td>38480.0</td>\n",
       "    </tr>\n",
       "    <tr>\n",
       "      <th>2</th>\n",
       "      <td>10998357</td>\n",
       "      <td>The National Exemplar</td>\n",
       "      <td>Assitant Restaurant Manager</td>\n",
       "      <td>YEARLY</td>\n",
       "      <td>Cincinnati, OH</td>\n",
       "      <td>64896719.0</td>\n",
       "      <td>ComplexOnsiteApply</td>\n",
       "      <td>Mid-Senior level</td>\n",
       "      <td>FULL_TIME</td>\n",
       "      <td>USD</td>\n",
       "      <td>BASE_SALARY</td>\n",
       "      <td>55000.0</td>\n",
       "    </tr>\n",
       "    <tr>\n",
       "      <th>3</th>\n",
       "      <td>23221523</td>\n",
       "      <td>Abrams Fensterman, LLP</td>\n",
       "      <td>Senior Elder Law / Trusts and Estates Associat...</td>\n",
       "      <td>YEARLY</td>\n",
       "      <td>New Hyde Park, NY</td>\n",
       "      <td>766262.0</td>\n",
       "      <td>ComplexOnsiteApply</td>\n",
       "      <td>Mid-Senior level</td>\n",
       "      <td>FULL_TIME</td>\n",
       "      <td>USD</td>\n",
       "      <td>BASE_SALARY</td>\n",
       "      <td>157500.0</td>\n",
       "    </tr>\n",
       "    <tr>\n",
       "      <th>5</th>\n",
       "      <td>91700727</td>\n",
       "      <td>Downtown Raleigh Alliance</td>\n",
       "      <td>Economic Development and Planning Intern</td>\n",
       "      <td>HOURLY</td>\n",
       "      <td>Raleigh, NC</td>\n",
       "      <td>1481176.0</td>\n",
       "      <td>ComplexOnsiteApply</td>\n",
       "      <td>Mid-Senior level</td>\n",
       "      <td>INTERNSHIP</td>\n",
       "      <td>USD</td>\n",
       "      <td>BASE_SALARY</td>\n",
       "      <td>35360.0</td>\n",
       "    </tr>\n",
       "    <tr>\n",
       "      <th>6</th>\n",
       "      <td>103254301</td>\n",
       "      <td>Raw Cereal</td>\n",
       "      <td>Producer</td>\n",
       "      <td>YEARLY</td>\n",
       "      <td>United States</td>\n",
       "      <td>81942316.0</td>\n",
       "      <td>SimpleOnsiteApply</td>\n",
       "      <td>Mid-Senior level</td>\n",
       "      <td>CONTRACT</td>\n",
       "      <td>USD</td>\n",
       "      <td>BASE_SALARY</td>\n",
       "      <td>180000.0</td>\n",
       "    </tr>\n",
       "    <tr>\n",
       "      <th>9</th>\n",
       "      <td>2264355</td>\n",
       "      <td>Bay West Church</td>\n",
       "      <td>Worship Leader</td>\n",
       "      <td>MONTHLY</td>\n",
       "      <td>Palm Bay, FL</td>\n",
       "      <td>28631247.0</td>\n",
       "      <td>ComplexOnsiteApply</td>\n",
       "      <td>Mid-Senior level</td>\n",
       "      <td>PART_TIME</td>\n",
       "      <td>USD</td>\n",
       "      <td>BASE_SALARY</td>\n",
       "      <td>4200.0</td>\n",
       "    </tr>\n",
       "    <tr>\n",
       "      <th>16</th>\n",
       "      <td>95428182</td>\n",
       "      <td>CLEVELAND KIDS BOOK BANK</td>\n",
       "      <td>Administrative Coordinator</td>\n",
       "      <td>HOURLY</td>\n",
       "      <td>Cleveland, OH</td>\n",
       "      <td>55624331.0</td>\n",
       "      <td>OffsiteApply</td>\n",
       "      <td>Mid-Senior level</td>\n",
       "      <td>FULL_TIME</td>\n",
       "      <td>USD</td>\n",
       "      <td>BASE_SALARY</td>\n",
       "      <td>52000.0</td>\n",
       "    </tr>\n",
       "    <tr>\n",
       "      <th>30</th>\n",
       "      <td>229924287</td>\n",
       "      <td>REquipment Durable Medical Equipment and Assis...</td>\n",
       "      <td>Administrative Assistant</td>\n",
       "      <td>HOURLY</td>\n",
       "      <td>Woburn, MA</td>\n",
       "      <td>14773918.0</td>\n",
       "      <td>ComplexOnsiteApply</td>\n",
       "      <td>Mid-Senior level</td>\n",
       "      <td>PART_TIME</td>\n",
       "      <td>USD</td>\n",
       "      <td>BASE_SALARY</td>\n",
       "      <td>47840.0</td>\n",
       "    </tr>\n",
       "    <tr>\n",
       "      <th>35</th>\n",
       "      <td>266566927</td>\n",
       "      <td>Revesco Properties</td>\n",
       "      <td>Marketing &amp; Office Coordinator</td>\n",
       "      <td>YEARLY</td>\n",
       "      <td>Denver, CO</td>\n",
       "      <td>8577252.0</td>\n",
       "      <td>SimpleOnsiteApply</td>\n",
       "      <td>Mid-Senior level</td>\n",
       "      <td>FULL_TIME</td>\n",
       "      <td>USD</td>\n",
       "      <td>BASE_SALARY</td>\n",
       "      <td>65000.0</td>\n",
       "    </tr>\n",
       "    <tr>\n",
       "      <th>36</th>\n",
       "      <td>266825034</td>\n",
       "      <td>Recruitment Design</td>\n",
       "      <td>Software Support Specialist</td>\n",
       "      <td>YEARLY</td>\n",
       "      <td>McLean, VA</td>\n",
       "      <td>99212509.0</td>\n",
       "      <td>ComplexOnsiteApply</td>\n",
       "      <td>Mid-Senior level</td>\n",
       "      <td>FULL_TIME</td>\n",
       "      <td>USD</td>\n",
       "      <td>BASE_SALARY</td>\n",
       "      <td>62500.0</td>\n",
       "    </tr>\n",
       "  </tbody>\n",
       "</table>\n",
       "</div>"
      ]
     },
     "execution_count": 61,
     "metadata": {},
     "output_type": "execute_result"
    }
   ],
   "execution_count": 61
  },
  {
   "cell_type": "markdown",
   "id": "ba829af2c092bcbb",
   "metadata": {},
   "source": [
    "Wiersze z pełną informacją płacową:"
   ]
  },
  {
   "cell_type": "code",
   "id": "f5e699c6746cb38a",
   "metadata": {
    "ExecuteTime": {
     "end_time": "2025-04-02T08:24:52.548185Z",
     "start_time": "2025-04-02T08:24:52.517395Z"
    }
   },
   "source": [
    "postings[['normalized_salary', 'currency', 'compensation_type', 'pay_period']].isna().sum()\n",
    "complete_salary_rows = postings_cleaned.dropna(subset=['normalized_salary', 'currency', 'compensation_type', 'pay_period'])\n",
    "print(f\"Liczba ofert z pełnymi danymi płacowymi: {len(complete_salary_rows)} z {len(postings)}\")"
   ],
   "outputs": [
    {
     "name": "stdout",
     "output_type": "stream",
     "text": [
      "Liczba ofert z pełnymi danymi płacowymi: 34625 z 123849\n"
     ]
    }
   ],
   "execution_count": 63
  },
  {
   "cell_type": "markdown",
   "id": "a81d45acad55f14e",
   "metadata": {},
   "source": [
    "Sprawdzenie występowania wartości w currency"
   ]
  },
  {
   "cell_type": "code",
   "id": "b725e414936886a8",
   "metadata": {
    "ExecuteTime": {
     "end_time": "2025-04-02T08:25:00.976690Z",
     "start_time": "2025-04-02T08:25:00.971435Z"
    }
   },
   "source": [
    "print(postings_cleaned['currency'].value_counts())"
   ],
   "outputs": [
    {
     "name": "stdout",
     "output_type": "stream",
     "text": [
      "currency\n",
      "USD    34612\n",
      "EUR        6\n",
      "CAD        3\n",
      "BBD        2\n",
      "GBP        2\n",
      "Name: count, dtype: int64\n"
     ]
    }
   ],
   "execution_count": 64
  },
  {
   "cell_type": "markdown",
   "id": "b7cddced4b75f12d",
   "metadata": {},
   "source": [
    "Kolumna currency została przeanalizowana pod kątem unikalnych wartości. Spośród wszystkich 35 563 rekordów, aż 99.96% miało wartość USD. Pozostałe 13 rekordów używały walut takich jak EUR, CAD, GBP, BBD. Zdecydowano się usunąć rekordy niebędące w USD i następnie usunąć samą kolumnę jako zbędną – dane są jednolite walutowo."
   ]
  },
  {
   "cell_type": "code",
   "id": "769def0d4b62d9fc",
   "metadata": {
    "ExecuteTime": {
     "end_time": "2025-04-02T08:26:37.038198Z",
     "start_time": "2025-04-02T08:26:37.032199Z"
    }
   },
   "source": [
    "print(postings_cleaned['compensation_type'].value_counts())"
   ],
   "outputs": [
    {
     "name": "stdout",
     "output_type": "stream",
     "text": [
      "compensation_type\n",
      "BASE_SALARY    34625\n",
      "Name: count, dtype: int64\n"
     ]
    }
   ],
   "execution_count": 65
  },
  {
   "cell_type": "markdown",
   "id": "17468f9f3c81a1b4",
   "metadata": {},
   "source": [
    "Kolumna compensation_type okazała się jednorodna – wszystkie rekordy zawierały wartość BASE_SALARY. W związku z brakiem zmienności cecha została usunięta jako nieinformacyjna."
   ]
  },
  {
   "cell_type": "code",
   "id": "eee764f55019b525",
   "metadata": {
    "ExecuteTime": {
     "end_time": "2025-04-02T08:26:41.025480Z",
     "start_time": "2025-04-02T08:26:41.019884Z"
    }
   },
   "source": [
    "print(postings_cleaned['work_type'].value_counts())"
   ],
   "outputs": [
    {
     "name": "stdout",
     "output_type": "stream",
     "text": [
      "work_type\n",
      "FULL_TIME     27888\n",
      "CONTRACT       3759\n",
      "PART_TIME      2217\n",
      "TEMPORARY       387\n",
      "INTERNSHIP      236\n",
      "OTHER           130\n",
      "VOLUNTEER         8\n",
      "Name: count, dtype: int64\n"
     ]
    }
   ],
   "execution_count": 66
  },
  {
   "cell_type": "markdown",
   "id": "8fb21a2f57018e98",
   "metadata": {},
   "source": []
  },
  {
   "cell_type": "code",
   "id": "20cca864f28aec30",
   "metadata": {
    "ExecuteTime": {
     "end_time": "2025-04-02T08:26:50.863391Z",
     "start_time": "2025-04-02T08:26:50.857394Z"
    }
   },
   "source": [
    "print(postings_cleaned['formatted_experience_level'].value_counts())"
   ],
   "outputs": [
    {
     "name": "stdout",
     "output_type": "stream",
     "text": [
      "formatted_experience_level\n",
      "Mid-Senior level    20006\n",
      "Entry level          9059\n",
      "Associate            3818\n",
      "Director             1108\n",
      "Internship            368\n",
      "Executive             266\n",
      "Name: count, dtype: int64\n"
     ]
    }
   ],
   "execution_count": 67
  },
  {
   "metadata": {
    "ExecuteTime": {
     "end_time": "2025-04-02T09:12:20.174877Z",
     "start_time": "2025-04-02T09:12:20.170486Z"
    }
   },
   "cell_type": "code",
   "source": "print(postings_cleaned['remote_allowed'].value_counts())",
   "id": "ac36dc16a03be6fa",
   "outputs": [
    {
     "name": "stdout",
     "output_type": "stream",
     "text": [
      "remote_allowed\n",
      "1.0    4566\n",
      "Name: count, dtype: int64\n"
     ]
    }
   ],
   "execution_count": 85
  },
  {
   "metadata": {
    "ExecuteTime": {
     "end_time": "2025-04-02T09:12:37.025940Z",
     "start_time": "2025-04-02T09:12:37.020375Z"
    }
   },
   "cell_type": "code",
   "source": "print(postings_cleaned['pay_period'].value_counts())",
   "id": "b53cdd28609b6137",
   "outputs": [
    {
     "name": "stdout",
     "output_type": "stream",
     "text": [
      "pay_period\n",
      "YEARLY      19481\n",
      "HOURLY      14463\n",
      "MONTHLY       501\n",
      "WEEKLY        177\n",
      "BIWEEKLY        3\n",
      "Name: count, dtype: int64\n"
     ]
    }
   ],
   "execution_count": 86
  },
  {
   "cell_type": "markdown",
   "id": "4f90cf2dbe844cbd",
   "metadata": {},
   "source": [
    "Sprawdzenie location:"
   ]
  },
  {
   "cell_type": "code",
   "id": "e8f1702b99272d18",
   "metadata": {
    "ExecuteTime": {
     "end_time": "2025-04-02T08:27:08.007601Z",
     "start_time": "2025-04-02T08:27:07.978258Z"
    }
   },
   "source": [
    "# Policzmy długość location – 2 przecinki = city, state, country (czyli 3 pola); 1 przecinek = city, state; brak przecinka = tylko kraj\n",
    "\n",
    "postings_cleaned['location_comma_count'] = postings_cleaned['location'].str.count(',')\n",
    "\n",
    "# Rekordy tylko z krajem (np. \"United States\")\n",
    "only_country = postings_cleaned[postings_cleaned['location_comma_count'] == 0]\n",
    "print(f\"Liczba rekordów z samym krajem: {len(only_country)}\")\n",
    "\n",
    "# Rekordy z City, ST (1 przecinek)\n",
    "city_state = postings_cleaned[postings_cleaned['location_comma_count'] == 1]\n",
    "print(f\"Liczba rekordów z miastem i stanem: {len(city_state)}\")\n",
    "\n",
    "# Rekordy z City, ST, Country (2 przecinki)\n",
    "full_location = postings_cleaned[postings_cleaned['location_comma_count'] == 2]\n",
    "print(f\"Liczba rekordów z pełną lokalizacją: {len(full_location)}\")"
   ],
   "outputs": [
    {
     "name": "stdout",
     "output_type": "stream",
     "text": [
      "Liczba rekordów z samym krajem: 4185\n",
      "Liczba rekordów z miastem i stanem: 30234\n",
      "Liczba rekordów z pełną lokalizacją: 206\n"
     ]
    }
   ],
   "execution_count": 68
  },
  {
   "cell_type": "code",
   "id": "2207cfb5a281c275",
   "metadata": {
    "ExecuteTime": {
     "end_time": "2025-04-02T08:27:17.446302Z",
     "start_time": "2025-04-02T08:27:17.418340Z"
    }
   },
   "source": [
    "# Rekordy, gdzie location to tylko kraj (brak przecinka)\n",
    "only_country = postings_cleaned[postings_cleaned['location'].str.count(',') == 0]\n",
    "\n",
    "# Wyświetlenie unikalnych wartości\n",
    "print(\"Unikalne wartości 'location' dla rekordów zawierających tylko kraj:\")\n",
    "print(only_country['location'].value_counts())"
   ],
   "outputs": [
    {
     "name": "stdout",
     "output_type": "stream",
     "text": [
      "Unikalne wartości 'location' dla rekordów zawierających tylko kraj:\n",
      "location\n",
      "United States                             2456\n",
      "New York City Metropolitan Area            421\n",
      "Los Angeles Metropolitan Area              142\n",
      "San Francisco Bay Area                     129\n",
      "Dallas-Fort Worth Metroplex                 90\n",
      "                                          ... \n",
      "Maui                                         1\n",
      "Erie-Meadville Area                          1\n",
      "Lawton Area                                  1\n",
      "Pensacola Metropolitan Area                  1\n",
      "Blacksburg-Christiansburg-Radford Area       1\n",
      "Name: count, Length: 111, dtype: int64\n"
     ]
    }
   ],
   "execution_count": 69
  },
  {
   "cell_type": "markdown",
   "id": "30a4f7641d919cc5",
   "metadata": {},
   "source": []
  },
  {
   "cell_type": "markdown",
   "id": "3f50558f7bd83a4d",
   "metadata": {},
   "source": [
    "Usunięcie jednorodnych kolumn currency oraz compensation_type:"
   ]
  },
  {
   "cell_type": "code",
   "id": "a87a21cb7dffda38",
   "metadata": {
    "ExecuteTime": {
     "end_time": "2025-04-02T08:27:29.835455Z",
     "start_time": "2025-04-02T08:27:29.820440Z"
    }
   },
   "source": [
    "postings_cleaned = postings_cleaned[postings_cleaned['currency'] == 'USD']\n",
    "postings_cleaned = postings_cleaned.drop(columns=['currency'])"
   ],
   "outputs": [],
   "execution_count": 70
  },
  {
   "cell_type": "code",
   "id": "7a333d00e58efdef",
   "metadata": {
    "ExecuteTime": {
     "end_time": "2025-04-02T08:27:30.384763Z",
     "start_time": "2025-04-02T08:27:30.369255Z"
    }
   },
   "source": [
    "postings_cleaned = postings_cleaned[postings_cleaned['compensation_type'] == 'BASE_SALARY']\n",
    "postings_cleaned = postings_cleaned.drop(columns=['compensation_type'])"
   ],
   "outputs": [],
   "execution_count": 71
  },
  {
   "cell_type": "markdown",
   "id": "43f9f983b8d2f955",
   "metadata": {},
   "source": [
    "Kodowanie cech kategorycznych przez OneHotEncoding"
   ]
  },
  {
   "cell_type": "code",
   "id": "f98b4ebc3eb2d0e5",
   "metadata": {
    "ExecuteTime": {
     "end_time": "2025-04-02T08:27:35.617910Z",
     "start_time": "2025-04-02T08:27:35.600784Z"
    }
   },
   "source": [
    "postings_encoded = pd.get_dummies(\n",
    "    postings_cleaned,\n",
    "    columns=['work_type', 'formatted_experience_level'],\n",
    "    drop_first=True  # unika redundancji (np. jeśli FULL_TIME i PART_TIME, to tylko PART_TIME == 1 znaczy, że nie jest full)\n",
    ")"
   ],
   "outputs": [],
   "execution_count": 72
  },
  {
   "cell_type": "markdown",
   "id": "377bdbce24c7dc2b",
   "metadata": {},
   "source": [
    "Podgląd:"
   ]
  },
  {
   "cell_type": "code",
   "id": "9f1599a39e79a43d",
   "metadata": {
    "ExecuteTime": {
     "end_time": "2025-04-02T08:27:37.985750Z",
     "start_time": "2025-04-02T08:27:37.981177Z"
    }
   },
   "source": [
    "print(\"Finalny kształt danych:\", postings_encoded.shape)\n",
    "print(\"Kolumny po kodowaniu:\", postings_encoded.columns.tolist())"
   ],
   "outputs": [
    {
     "name": "stdout",
     "output_type": "stream",
     "text": [
      "Finalny kształt danych: (34612, 20)\n",
      "Kolumny po kodowaniu: ['job_id', 'company_name', 'title', 'pay_period', 'location', 'company_id', 'application_type', 'normalized_salary', 'location_comma_count', 'work_type_FULL_TIME', 'work_type_INTERNSHIP', 'work_type_OTHER', 'work_type_PART_TIME', 'work_type_TEMPORARY', 'work_type_VOLUNTEER', 'formatted_experience_level_Director', 'formatted_experience_level_Entry level', 'formatted_experience_level_Executive', 'formatted_experience_level_Internship', 'formatted_experience_level_Mid-Senior level']\n"
     ]
    }
   ],
   "execution_count": 73
  },
  {
   "cell_type": "code",
   "id": "cc4107ece8b1d78b",
   "metadata": {
    "ExecuteTime": {
     "end_time": "2025-04-02T07:54:00.912679Z",
     "start_time": "2025-04-02T07:54:00.901285Z"
    }
   },
   "source": [
    "postings_cleaned.head(5)"
   ],
   "outputs": [
    {
     "data": {
      "text/plain": [
       "      job_id               company_name  \\\n",
       "0     921716      Corcoran Sawyer Smith   \n",
       "2   10998357     The National Exemplar    \n",
       "3   23221523     Abrams Fensterman, LLP   \n",
       "5   91700727  Downtown Raleigh Alliance   \n",
       "6  103254301                 Raw Cereal   \n",
       "\n",
       "                                               title pay_period  \\\n",
       "0                              Marketing Coordinator     HOURLY   \n",
       "2                        Assitant Restaurant Manager     YEARLY   \n",
       "3  Senior Elder Law / Trusts and Estates Associat...     YEARLY   \n",
       "5           Economic Development and Planning Intern     HOURLY   \n",
       "6                                           Producer     YEARLY   \n",
       "\n",
       "            location  company_id    application_type  \\\n",
       "0      Princeton, NJ   2774458.0  ComplexOnsiteApply   \n",
       "2     Cincinnati, OH  64896719.0  ComplexOnsiteApply   \n",
       "3  New Hyde Park, NY    766262.0  ComplexOnsiteApply   \n",
       "5        Raleigh, NC   1481176.0  ComplexOnsiteApply   \n",
       "6      United States  81942316.0   SimpleOnsiteApply   \n",
       "\n",
       "  formatted_experience_level   work_type  normalized_salary  \\\n",
       "0           Mid-Senior level   FULL_TIME            38480.0   \n",
       "2           Mid-Senior level   FULL_TIME            55000.0   \n",
       "3           Mid-Senior level   FULL_TIME           157500.0   \n",
       "5           Mid-Senior level  INTERNSHIP            35360.0   \n",
       "6           Mid-Senior level    CONTRACT           180000.0   \n",
       "\n",
       "   location_comma_count  \n",
       "0                     1  \n",
       "2                     1  \n",
       "3                     1  \n",
       "5                     1  \n",
       "6                     0  "
      ],
      "text/html": [
       "<div>\n",
       "<style scoped>\n",
       "    .dataframe tbody tr th:only-of-type {\n",
       "        vertical-align: middle;\n",
       "    }\n",
       "\n",
       "    .dataframe tbody tr th {\n",
       "        vertical-align: top;\n",
       "    }\n",
       "\n",
       "    .dataframe thead th {\n",
       "        text-align: right;\n",
       "    }\n",
       "</style>\n",
       "<table border=\"1\" class=\"dataframe\">\n",
       "  <thead>\n",
       "    <tr style=\"text-align: right;\">\n",
       "      <th></th>\n",
       "      <th>job_id</th>\n",
       "      <th>company_name</th>\n",
       "      <th>title</th>\n",
       "      <th>pay_period</th>\n",
       "      <th>location</th>\n",
       "      <th>company_id</th>\n",
       "      <th>application_type</th>\n",
       "      <th>formatted_experience_level</th>\n",
       "      <th>work_type</th>\n",
       "      <th>normalized_salary</th>\n",
       "      <th>location_comma_count</th>\n",
       "    </tr>\n",
       "  </thead>\n",
       "  <tbody>\n",
       "    <tr>\n",
       "      <th>0</th>\n",
       "      <td>921716</td>\n",
       "      <td>Corcoran Sawyer Smith</td>\n",
       "      <td>Marketing Coordinator</td>\n",
       "      <td>HOURLY</td>\n",
       "      <td>Princeton, NJ</td>\n",
       "      <td>2774458.0</td>\n",
       "      <td>ComplexOnsiteApply</td>\n",
       "      <td>Mid-Senior level</td>\n",
       "      <td>FULL_TIME</td>\n",
       "      <td>38480.0</td>\n",
       "      <td>1</td>\n",
       "    </tr>\n",
       "    <tr>\n",
       "      <th>2</th>\n",
       "      <td>10998357</td>\n",
       "      <td>The National Exemplar</td>\n",
       "      <td>Assitant Restaurant Manager</td>\n",
       "      <td>YEARLY</td>\n",
       "      <td>Cincinnati, OH</td>\n",
       "      <td>64896719.0</td>\n",
       "      <td>ComplexOnsiteApply</td>\n",
       "      <td>Mid-Senior level</td>\n",
       "      <td>FULL_TIME</td>\n",
       "      <td>55000.0</td>\n",
       "      <td>1</td>\n",
       "    </tr>\n",
       "    <tr>\n",
       "      <th>3</th>\n",
       "      <td>23221523</td>\n",
       "      <td>Abrams Fensterman, LLP</td>\n",
       "      <td>Senior Elder Law / Trusts and Estates Associat...</td>\n",
       "      <td>YEARLY</td>\n",
       "      <td>New Hyde Park, NY</td>\n",
       "      <td>766262.0</td>\n",
       "      <td>ComplexOnsiteApply</td>\n",
       "      <td>Mid-Senior level</td>\n",
       "      <td>FULL_TIME</td>\n",
       "      <td>157500.0</td>\n",
       "      <td>1</td>\n",
       "    </tr>\n",
       "    <tr>\n",
       "      <th>5</th>\n",
       "      <td>91700727</td>\n",
       "      <td>Downtown Raleigh Alliance</td>\n",
       "      <td>Economic Development and Planning Intern</td>\n",
       "      <td>HOURLY</td>\n",
       "      <td>Raleigh, NC</td>\n",
       "      <td>1481176.0</td>\n",
       "      <td>ComplexOnsiteApply</td>\n",
       "      <td>Mid-Senior level</td>\n",
       "      <td>INTERNSHIP</td>\n",
       "      <td>35360.0</td>\n",
       "      <td>1</td>\n",
       "    </tr>\n",
       "    <tr>\n",
       "      <th>6</th>\n",
       "      <td>103254301</td>\n",
       "      <td>Raw Cereal</td>\n",
       "      <td>Producer</td>\n",
       "      <td>YEARLY</td>\n",
       "      <td>United States</td>\n",
       "      <td>81942316.0</td>\n",
       "      <td>SimpleOnsiteApply</td>\n",
       "      <td>Mid-Senior level</td>\n",
       "      <td>CONTRACT</td>\n",
       "      <td>180000.0</td>\n",
       "      <td>0</td>\n",
       "    </tr>\n",
       "  </tbody>\n",
       "</table>\n",
       "</div>"
      ]
     },
     "execution_count": 36,
     "metadata": {},
     "output_type": "execute_result"
    }
   ],
   "execution_count": 36
  },
  {
   "cell_type": "code",
   "id": "c1dbf1ac0eb6dd65",
   "metadata": {
    "ExecuteTime": {
     "end_time": "2025-04-02T09:37:37.837632Z",
     "start_time": "2025-04-02T09:37:37.820400Z"
    }
   },
   "source": "postings_encoded.head(10)",
   "outputs": [
    {
     "data": {
      "text/plain": [
       "       job_id                                       company_name  \\\n",
       "0      921716                              Corcoran Sawyer Smith   \n",
       "2    10998357                             The National Exemplar    \n",
       "3    23221523                             Abrams Fensterman, LLP   \n",
       "5    91700727                          Downtown Raleigh Alliance   \n",
       "6   103254301                                         Raw Cereal   \n",
       "9     2264355                                    Bay West Church   \n",
       "16   95428182                           CLEVELAND KIDS BOOK BANK   \n",
       "30  229924287  REquipment Durable Medical Equipment and Assis...   \n",
       "35  266566927                                 Revesco Properties   \n",
       "36  266825034                                 Recruitment Design   \n",
       "\n",
       "                                                title pay_period  \\\n",
       "0                               Marketing Coordinator     HOURLY   \n",
       "2                         Assitant Restaurant Manager     YEARLY   \n",
       "3   Senior Elder Law / Trusts and Estates Associat...     YEARLY   \n",
       "5            Economic Development and Planning Intern     HOURLY   \n",
       "6                                            Producer     YEARLY   \n",
       "9                                      Worship Leader    MONTHLY   \n",
       "16                         Administrative Coordinator     HOURLY   \n",
       "30                           Administrative Assistant     HOURLY   \n",
       "35                     Marketing & Office Coordinator     YEARLY   \n",
       "36                        Software Support Specialist     YEARLY   \n",
       "\n",
       "             location  company_id    application_type  normalized_salary  \\\n",
       "0       Princeton, NJ   2774458.0  ComplexOnsiteApply            38480.0   \n",
       "2      Cincinnati, OH  64896719.0  ComplexOnsiteApply            55000.0   \n",
       "3   New Hyde Park, NY    766262.0  ComplexOnsiteApply           157500.0   \n",
       "5         Raleigh, NC   1481176.0  ComplexOnsiteApply            35360.0   \n",
       "6       United States  81942316.0   SimpleOnsiteApply           180000.0   \n",
       "9        Palm Bay, FL  28631247.0  ComplexOnsiteApply             4200.0   \n",
       "16      Cleveland, OH  55624331.0        OffsiteApply            52000.0   \n",
       "30         Woburn, MA  14773918.0  ComplexOnsiteApply            47840.0   \n",
       "35         Denver, CO   8577252.0   SimpleOnsiteApply            65000.0   \n",
       "36         McLean, VA  99212509.0  ComplexOnsiteApply            62500.0   \n",
       "\n",
       "    location_comma_count  work_type_FULL_TIME  work_type_INTERNSHIP  \\\n",
       "0                      1                 True                 False   \n",
       "2                      1                 True                 False   \n",
       "3                      1                 True                 False   \n",
       "5                      1                False                  True   \n",
       "6                      0                False                 False   \n",
       "9                      1                False                 False   \n",
       "16                     1                 True                 False   \n",
       "30                     1                False                 False   \n",
       "35                     1                 True                 False   \n",
       "36                     1                 True                 False   \n",
       "\n",
       "    work_type_OTHER  work_type_PART_TIME  work_type_TEMPORARY  \\\n",
       "0             False                False                False   \n",
       "2             False                False                False   \n",
       "3             False                False                False   \n",
       "5             False                False                False   \n",
       "6             False                False                False   \n",
       "9             False                 True                False   \n",
       "16            False                False                False   \n",
       "30            False                 True                False   \n",
       "35            False                False                False   \n",
       "36            False                False                False   \n",
       "\n",
       "    work_type_VOLUNTEER  formatted_experience_level_Director  \\\n",
       "0                 False                                False   \n",
       "2                 False                                False   \n",
       "3                 False                                False   \n",
       "5                 False                                False   \n",
       "6                 False                                False   \n",
       "9                 False                                False   \n",
       "16                False                                False   \n",
       "30                False                                False   \n",
       "35                False                                False   \n",
       "36                False                                False   \n",
       "\n",
       "    formatted_experience_level_Entry level  \\\n",
       "0                                    False   \n",
       "2                                    False   \n",
       "3                                    False   \n",
       "5                                    False   \n",
       "6                                    False   \n",
       "9                                    False   \n",
       "16                                   False   \n",
       "30                                   False   \n",
       "35                                   False   \n",
       "36                                   False   \n",
       "\n",
       "    formatted_experience_level_Executive  \\\n",
       "0                                  False   \n",
       "2                                  False   \n",
       "3                                  False   \n",
       "5                                  False   \n",
       "6                                  False   \n",
       "9                                  False   \n",
       "16                                 False   \n",
       "30                                 False   \n",
       "35                                 False   \n",
       "36                                 False   \n",
       "\n",
       "    formatted_experience_level_Internship  \\\n",
       "0                                   False   \n",
       "2                                   False   \n",
       "3                                   False   \n",
       "5                                   False   \n",
       "6                                   False   \n",
       "9                                   False   \n",
       "16                                  False   \n",
       "30                                  False   \n",
       "35                                  False   \n",
       "36                                  False   \n",
       "\n",
       "    formatted_experience_level_Mid-Senior level  \n",
       "0                                          True  \n",
       "2                                          True  \n",
       "3                                          True  \n",
       "5                                          True  \n",
       "6                                          True  \n",
       "9                                          True  \n",
       "16                                         True  \n",
       "30                                         True  \n",
       "35                                         True  \n",
       "36                                         True  "
      ],
      "text/html": [
       "<div>\n",
       "<style scoped>\n",
       "    .dataframe tbody tr th:only-of-type {\n",
       "        vertical-align: middle;\n",
       "    }\n",
       "\n",
       "    .dataframe tbody tr th {\n",
       "        vertical-align: top;\n",
       "    }\n",
       "\n",
       "    .dataframe thead th {\n",
       "        text-align: right;\n",
       "    }\n",
       "</style>\n",
       "<table border=\"1\" class=\"dataframe\">\n",
       "  <thead>\n",
       "    <tr style=\"text-align: right;\">\n",
       "      <th></th>\n",
       "      <th>job_id</th>\n",
       "      <th>company_name</th>\n",
       "      <th>title</th>\n",
       "      <th>pay_period</th>\n",
       "      <th>location</th>\n",
       "      <th>company_id</th>\n",
       "      <th>application_type</th>\n",
       "      <th>normalized_salary</th>\n",
       "      <th>location_comma_count</th>\n",
       "      <th>work_type_FULL_TIME</th>\n",
       "      <th>work_type_INTERNSHIP</th>\n",
       "      <th>work_type_OTHER</th>\n",
       "      <th>work_type_PART_TIME</th>\n",
       "      <th>work_type_TEMPORARY</th>\n",
       "      <th>work_type_VOLUNTEER</th>\n",
       "      <th>formatted_experience_level_Director</th>\n",
       "      <th>formatted_experience_level_Entry level</th>\n",
       "      <th>formatted_experience_level_Executive</th>\n",
       "      <th>formatted_experience_level_Internship</th>\n",
       "      <th>formatted_experience_level_Mid-Senior level</th>\n",
       "    </tr>\n",
       "  </thead>\n",
       "  <tbody>\n",
       "    <tr>\n",
       "      <th>0</th>\n",
       "      <td>921716</td>\n",
       "      <td>Corcoran Sawyer Smith</td>\n",
       "      <td>Marketing Coordinator</td>\n",
       "      <td>HOURLY</td>\n",
       "      <td>Princeton, NJ</td>\n",
       "      <td>2774458.0</td>\n",
       "      <td>ComplexOnsiteApply</td>\n",
       "      <td>38480.0</td>\n",
       "      <td>1</td>\n",
       "      <td>True</td>\n",
       "      <td>False</td>\n",
       "      <td>False</td>\n",
       "      <td>False</td>\n",
       "      <td>False</td>\n",
       "      <td>False</td>\n",
       "      <td>False</td>\n",
       "      <td>False</td>\n",
       "      <td>False</td>\n",
       "      <td>False</td>\n",
       "      <td>True</td>\n",
       "    </tr>\n",
       "    <tr>\n",
       "      <th>2</th>\n",
       "      <td>10998357</td>\n",
       "      <td>The National Exemplar</td>\n",
       "      <td>Assitant Restaurant Manager</td>\n",
       "      <td>YEARLY</td>\n",
       "      <td>Cincinnati, OH</td>\n",
       "      <td>64896719.0</td>\n",
       "      <td>ComplexOnsiteApply</td>\n",
       "      <td>55000.0</td>\n",
       "      <td>1</td>\n",
       "      <td>True</td>\n",
       "      <td>False</td>\n",
       "      <td>False</td>\n",
       "      <td>False</td>\n",
       "      <td>False</td>\n",
       "      <td>False</td>\n",
       "      <td>False</td>\n",
       "      <td>False</td>\n",
       "      <td>False</td>\n",
       "      <td>False</td>\n",
       "      <td>True</td>\n",
       "    </tr>\n",
       "    <tr>\n",
       "      <th>3</th>\n",
       "      <td>23221523</td>\n",
       "      <td>Abrams Fensterman, LLP</td>\n",
       "      <td>Senior Elder Law / Trusts and Estates Associat...</td>\n",
       "      <td>YEARLY</td>\n",
       "      <td>New Hyde Park, NY</td>\n",
       "      <td>766262.0</td>\n",
       "      <td>ComplexOnsiteApply</td>\n",
       "      <td>157500.0</td>\n",
       "      <td>1</td>\n",
       "      <td>True</td>\n",
       "      <td>False</td>\n",
       "      <td>False</td>\n",
       "      <td>False</td>\n",
       "      <td>False</td>\n",
       "      <td>False</td>\n",
       "      <td>False</td>\n",
       "      <td>False</td>\n",
       "      <td>False</td>\n",
       "      <td>False</td>\n",
       "      <td>True</td>\n",
       "    </tr>\n",
       "    <tr>\n",
       "      <th>5</th>\n",
       "      <td>91700727</td>\n",
       "      <td>Downtown Raleigh Alliance</td>\n",
       "      <td>Economic Development and Planning Intern</td>\n",
       "      <td>HOURLY</td>\n",
       "      <td>Raleigh, NC</td>\n",
       "      <td>1481176.0</td>\n",
       "      <td>ComplexOnsiteApply</td>\n",
       "      <td>35360.0</td>\n",
       "      <td>1</td>\n",
       "      <td>False</td>\n",
       "      <td>True</td>\n",
       "      <td>False</td>\n",
       "      <td>False</td>\n",
       "      <td>False</td>\n",
       "      <td>False</td>\n",
       "      <td>False</td>\n",
       "      <td>False</td>\n",
       "      <td>False</td>\n",
       "      <td>False</td>\n",
       "      <td>True</td>\n",
       "    </tr>\n",
       "    <tr>\n",
       "      <th>6</th>\n",
       "      <td>103254301</td>\n",
       "      <td>Raw Cereal</td>\n",
       "      <td>Producer</td>\n",
       "      <td>YEARLY</td>\n",
       "      <td>United States</td>\n",
       "      <td>81942316.0</td>\n",
       "      <td>SimpleOnsiteApply</td>\n",
       "      <td>180000.0</td>\n",
       "      <td>0</td>\n",
       "      <td>False</td>\n",
       "      <td>False</td>\n",
       "      <td>False</td>\n",
       "      <td>False</td>\n",
       "      <td>False</td>\n",
       "      <td>False</td>\n",
       "      <td>False</td>\n",
       "      <td>False</td>\n",
       "      <td>False</td>\n",
       "      <td>False</td>\n",
       "      <td>True</td>\n",
       "    </tr>\n",
       "    <tr>\n",
       "      <th>9</th>\n",
       "      <td>2264355</td>\n",
       "      <td>Bay West Church</td>\n",
       "      <td>Worship Leader</td>\n",
       "      <td>MONTHLY</td>\n",
       "      <td>Palm Bay, FL</td>\n",
       "      <td>28631247.0</td>\n",
       "      <td>ComplexOnsiteApply</td>\n",
       "      <td>4200.0</td>\n",
       "      <td>1</td>\n",
       "      <td>False</td>\n",
       "      <td>False</td>\n",
       "      <td>False</td>\n",
       "      <td>True</td>\n",
       "      <td>False</td>\n",
       "      <td>False</td>\n",
       "      <td>False</td>\n",
       "      <td>False</td>\n",
       "      <td>False</td>\n",
       "      <td>False</td>\n",
       "      <td>True</td>\n",
       "    </tr>\n",
       "    <tr>\n",
       "      <th>16</th>\n",
       "      <td>95428182</td>\n",
       "      <td>CLEVELAND KIDS BOOK BANK</td>\n",
       "      <td>Administrative Coordinator</td>\n",
       "      <td>HOURLY</td>\n",
       "      <td>Cleveland, OH</td>\n",
       "      <td>55624331.0</td>\n",
       "      <td>OffsiteApply</td>\n",
       "      <td>52000.0</td>\n",
       "      <td>1</td>\n",
       "      <td>True</td>\n",
       "      <td>False</td>\n",
       "      <td>False</td>\n",
       "      <td>False</td>\n",
       "      <td>False</td>\n",
       "      <td>False</td>\n",
       "      <td>False</td>\n",
       "      <td>False</td>\n",
       "      <td>False</td>\n",
       "      <td>False</td>\n",
       "      <td>True</td>\n",
       "    </tr>\n",
       "    <tr>\n",
       "      <th>30</th>\n",
       "      <td>229924287</td>\n",
       "      <td>REquipment Durable Medical Equipment and Assis...</td>\n",
       "      <td>Administrative Assistant</td>\n",
       "      <td>HOURLY</td>\n",
       "      <td>Woburn, MA</td>\n",
       "      <td>14773918.0</td>\n",
       "      <td>ComplexOnsiteApply</td>\n",
       "      <td>47840.0</td>\n",
       "      <td>1</td>\n",
       "      <td>False</td>\n",
       "      <td>False</td>\n",
       "      <td>False</td>\n",
       "      <td>True</td>\n",
       "      <td>False</td>\n",
       "      <td>False</td>\n",
       "      <td>False</td>\n",
       "      <td>False</td>\n",
       "      <td>False</td>\n",
       "      <td>False</td>\n",
       "      <td>True</td>\n",
       "    </tr>\n",
       "    <tr>\n",
       "      <th>35</th>\n",
       "      <td>266566927</td>\n",
       "      <td>Revesco Properties</td>\n",
       "      <td>Marketing &amp; Office Coordinator</td>\n",
       "      <td>YEARLY</td>\n",
       "      <td>Denver, CO</td>\n",
       "      <td>8577252.0</td>\n",
       "      <td>SimpleOnsiteApply</td>\n",
       "      <td>65000.0</td>\n",
       "      <td>1</td>\n",
       "      <td>True</td>\n",
       "      <td>False</td>\n",
       "      <td>False</td>\n",
       "      <td>False</td>\n",
       "      <td>False</td>\n",
       "      <td>False</td>\n",
       "      <td>False</td>\n",
       "      <td>False</td>\n",
       "      <td>False</td>\n",
       "      <td>False</td>\n",
       "      <td>True</td>\n",
       "    </tr>\n",
       "    <tr>\n",
       "      <th>36</th>\n",
       "      <td>266825034</td>\n",
       "      <td>Recruitment Design</td>\n",
       "      <td>Software Support Specialist</td>\n",
       "      <td>YEARLY</td>\n",
       "      <td>McLean, VA</td>\n",
       "      <td>99212509.0</td>\n",
       "      <td>ComplexOnsiteApply</td>\n",
       "      <td>62500.0</td>\n",
       "      <td>1</td>\n",
       "      <td>True</td>\n",
       "      <td>False</td>\n",
       "      <td>False</td>\n",
       "      <td>False</td>\n",
       "      <td>False</td>\n",
       "      <td>False</td>\n",
       "      <td>False</td>\n",
       "      <td>False</td>\n",
       "      <td>False</td>\n",
       "      <td>False</td>\n",
       "      <td>True</td>\n",
       "    </tr>\n",
       "  </tbody>\n",
       "</table>\n",
       "</div>"
      ]
     },
     "execution_count": 87,
     "metadata": {},
     "output_type": "execute_result"
    }
   ],
   "execution_count": 87
  },
  {
   "metadata": {},
   "cell_type": "code",
   "outputs": [],
   "execution_count": null,
   "source": "",
   "id": "149db2c65ebbdcc2"
  }
 ],
 "metadata": {
  "kernelspec": {
   "display_name": "Python 3 (ipykernel)",
   "language": "python",
   "name": "python3"
  },
  "language_info": {
   "codemirror_mode": {
    "name": "ipython",
    "version": 3
   },
   "file_extension": ".py",
   "mimetype": "text/x-python",
   "name": "python",
   "nbconvert_exporter": "python",
   "pygments_lexer": "ipython3",
   "version": "3.11.5"
  }
 },
 "nbformat": 4,
 "nbformat_minor": 5
}
